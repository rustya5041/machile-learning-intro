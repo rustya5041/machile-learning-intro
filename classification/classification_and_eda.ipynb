{
 "cells": [
  {
   "cell_type": "code",
   "execution_count": 1,
   "metadata": {
    "colab": {},
    "colab_type": "code",
    "deletable": false,
    "editable": false,
    "id": "bgiL_yKL3lDK",
    "nbgrader": {
     "cell_type": "code",
     "checksum": "19c3b7238af279c3e14ac01a803fc1da",
     "grade": false,
     "grade_id": "cell-84cd8781a8143746",
     "locked": true,
     "schema_version": 3,
     "solution": false,
     "task": false
    }
   },
   "outputs": [],
   "source": [
    "import numpy as np\n",
    "import pandas as pd\n",
    "import matplotlib.pyplot as plt\n",
    "\n",
    "\n",
    "%matplotlib inline"
   ]
  },
  {
   "cell_type": "markdown",
   "metadata": {
    "deletable": false,
    "editable": false,
    "nbgrader": {
     "cell_type": "markdown",
     "checksum": "97f335734d7422c1790629940a208554",
     "grade": false,
     "grade_id": "cell-06a28f034c84a96d",
     "locked": true,
     "schema_version": 3,
     "solution": false,
     "task": false
    }
   },
   "source": [
    "This is programming assignment for week 4. In this assignment you will be solving classification task and performing exploratory data analysis. \n",
    "\n",
    "### Grading\n",
    "The assignment contains both automatically graded and peer reviewed tasks. \n",
    "\n",
    "**Automatic grading**\n",
    "After you finish solving all the tasks restart the kernel (`kernel -> restart`) and and click button `Validate` to check that everything works as expected. Afterwards, you can submit your work.\n",
    "\n",
    "**Peer Review**\n",
    "Some of the tasks cannot be checked automatically,  therefore, we'll be using peer review. Please, download this notebook with solutions (`File → Download as → Notebook (.ipynb)`) and submit it for peer review. Each peer reviewed task contains grading instructions. \n",
    "\n",
    "\n",
    "# Table of Contents:\n",
    "* [Part1.](#part1) EDA and Feature Engineering\n",
    "    - [Explore the Target Variable](#target)\n",
    "    - [Categorical Features](#cat_features)\n",
    "        - [Task 1](#task1) [2 pts]\n",
    "        - [Task 2](#task2) [1 pt]\n",
    "        - [Task 3](#task3) [1 pt]\n",
    "        - [Task 4](#task4) [1 pt]\n",
    "        - [Task 5](#task5) [peer review]\n",
    "    - [Ordinal and numeric features](#rest_features)\n",
    "        - [Task 6](#task6) [peer review]\n",
    "        - [Task 7](#task7) [1 pt]\n",
    "        - [Task 8](#task8) [peer review]\n",
    "        - [Task 9](#task9) [1 pt]\n",
    "    - [Missing values](#na)\n",
    "        - [Task 10](#task10) [1 pt]\n",
    "        - [Task 11](#task11) [2 pts]\n",
    "    - [Columns transformers](#columns)\n",
    "        - [Task 12](#task12) [2 pts]\n",
    "    - [Train-test split](#train_test)\n",
    "* [Part2](#part2). Training, comparing and testing models\n",
    "    - [Task 13](#task13) [1 pt]\n",
    "    - [Task 14](#task14) [1 pt]\n",
    "    - [Task 15](#task15) [2 pts]"
   ]
  },
  {
   "cell_type": "markdown",
   "metadata": {
    "colab_type": "text",
    "deletable": false,
    "editable": false,
    "id": "GMf9yLqu-N-N",
    "nbgrader": {
     "cell_type": "markdown",
     "checksum": "267fed599d5d6c7c31967dc335741cb1",
     "grade": false,
     "grade_id": "cell-af93d1d8ec998e33",
     "locked": true,
     "schema_version": 3,
     "solution": false,
     "task": false
    }
   },
   "source": [
    "# Part 1. Exploratory Data Analysis (EDA) and Feature Engineering <a class=\"anchor\" id=\"part1\"></a>\n",
    "\n",
    "\n",
    "### The goal\n",
    "Explore the data, fix NAs, check if there are some mistakes and outliers, preprocess and select relevant features before fitting the model.\n"
   ]
  },
  {
   "cell_type": "markdown",
   "metadata": {
    "colab_type": "text",
    "deletable": false,
    "editable": false,
    "id": "Kts8synQs37y",
    "nbgrader": {
     "cell_type": "markdown",
     "checksum": "6cd75eb3dc1214b9b8416a4c4f36eeca",
     "grade": false,
     "grade_id": "cell-b3397408a1f2c9ae",
     "locked": true,
     "schema_version": 3,
     "solution": false,
     "task": false
    }
   },
   "source": [
    "## 0. Explore the dataset and the task\n",
    "\n",
    "Below you can find the dataset, which you will be working with in this assignment. It contains information about the passangers of the Titanic. The target variable that we are going to predict is `Survived`. It is a binary variable which indicates whether a given passenger survived in the Titanic catastroph."
   ]
  },
  {
   "cell_type": "code",
   "execution_count": 2,
   "metadata": {
    "colab": {
     "base_uri": "https://localhost:8080/",
     "height": 195
    },
    "colab_type": "code",
    "deletable": false,
    "editable": false,
    "executionInfo": {
     "elapsed": 744,
     "status": "ok",
     "timestamp": 1588940435271,
     "user": {
      "displayName": "Anna Kuzina",
      "photoUrl": "https://lh3.googleusercontent.com/a-/AOh14GiemaXGZADupTQf2gOFyfVMKD8BYzFXipMt2krfaeg=s64",
      "userId": "14976976853760262600"
     },
     "user_tz": -180
    },
    "id": "fzy6pMGbHriu",
    "nbgrader": {
     "cell_type": "code",
     "checksum": "c8ff5b0542551c483b9314d3a9e55c06",
     "grade": false,
     "grade_id": "cell-e26db2b8edfb8674",
     "locked": true,
     "schema_version": 3,
     "solution": false,
     "task": false
    },
    "outputId": "13a5b916-53c8-4950-8c2a-19f488d30f16"
   },
   "outputs": [
    {
     "data": {
      "text/html": [
       "<div>\n",
       "<style scoped>\n",
       "    .dataframe tbody tr th:only-of-type {\n",
       "        vertical-align: middle;\n",
       "    }\n",
       "\n",
       "    .dataframe tbody tr th {\n",
       "        vertical-align: top;\n",
       "    }\n",
       "\n",
       "    .dataframe thead th {\n",
       "        text-align: right;\n",
       "    }\n",
       "</style>\n",
       "<table border=\"1\" class=\"dataframe\">\n",
       "  <thead>\n",
       "    <tr style=\"text-align: right;\">\n",
       "      <th></th>\n",
       "      <th>PassengerId</th>\n",
       "      <th>Survived</th>\n",
       "      <th>Pclass</th>\n",
       "      <th>Name</th>\n",
       "      <th>Sex</th>\n",
       "      <th>Age</th>\n",
       "      <th>SibSp</th>\n",
       "      <th>Parch</th>\n",
       "      <th>Ticket</th>\n",
       "      <th>Fare</th>\n",
       "      <th>Cabin</th>\n",
       "      <th>Embarked</th>\n",
       "    </tr>\n",
       "  </thead>\n",
       "  <tbody>\n",
       "    <tr>\n",
       "      <th>0</th>\n",
       "      <td>1</td>\n",
       "      <td>0</td>\n",
       "      <td>3</td>\n",
       "      <td>Braund, Mr. Owen Harris</td>\n",
       "      <td>male</td>\n",
       "      <td>22.0</td>\n",
       "      <td>1</td>\n",
       "      <td>0</td>\n",
       "      <td>A/5 21171</td>\n",
       "      <td>7.2500</td>\n",
       "      <td>NaN</td>\n",
       "      <td>S</td>\n",
       "    </tr>\n",
       "    <tr>\n",
       "      <th>1</th>\n",
       "      <td>2</td>\n",
       "      <td>1</td>\n",
       "      <td>1</td>\n",
       "      <td>Cumings, Mrs. John Bradley (Florence Briggs Th...</td>\n",
       "      <td>female</td>\n",
       "      <td>38.0</td>\n",
       "      <td>1</td>\n",
       "      <td>0</td>\n",
       "      <td>PC 17599</td>\n",
       "      <td>71.2833</td>\n",
       "      <td>C85</td>\n",
       "      <td>C</td>\n",
       "    </tr>\n",
       "    <tr>\n",
       "      <th>2</th>\n",
       "      <td>3</td>\n",
       "      <td>1</td>\n",
       "      <td>3</td>\n",
       "      <td>Heikkinen, Miss. Laina</td>\n",
       "      <td>female</td>\n",
       "      <td>26.0</td>\n",
       "      <td>0</td>\n",
       "      <td>0</td>\n",
       "      <td>STON/O2. 3101282</td>\n",
       "      <td>7.9250</td>\n",
       "      <td>NaN</td>\n",
       "      <td>S</td>\n",
       "    </tr>\n",
       "    <tr>\n",
       "      <th>3</th>\n",
       "      <td>4</td>\n",
       "      <td>1</td>\n",
       "      <td>1</td>\n",
       "      <td>Futrelle, Mrs. Jacques Heath (Lily May Peel)</td>\n",
       "      <td>female</td>\n",
       "      <td>35.0</td>\n",
       "      <td>1</td>\n",
       "      <td>0</td>\n",
       "      <td>113803</td>\n",
       "      <td>53.1000</td>\n",
       "      <td>C123</td>\n",
       "      <td>S</td>\n",
       "    </tr>\n",
       "    <tr>\n",
       "      <th>4</th>\n",
       "      <td>5</td>\n",
       "      <td>0</td>\n",
       "      <td>3</td>\n",
       "      <td>Allen, Mr. William Henry</td>\n",
       "      <td>male</td>\n",
       "      <td>35.0</td>\n",
       "      <td>0</td>\n",
       "      <td>0</td>\n",
       "      <td>373450</td>\n",
       "      <td>8.0500</td>\n",
       "      <td>NaN</td>\n",
       "      <td>S</td>\n",
       "    </tr>\n",
       "  </tbody>\n",
       "</table>\n",
       "</div>"
      ],
      "text/plain": [
       "   PassengerId  Survived  Pclass  \\\n",
       "0            1         0       3   \n",
       "1            2         1       1   \n",
       "2            3         1       3   \n",
       "3            4         1       1   \n",
       "4            5         0       3   \n",
       "\n",
       "                                                Name     Sex   Age  SibSp  \\\n",
       "0                            Braund, Mr. Owen Harris    male  22.0      1   \n",
       "1  Cumings, Mrs. John Bradley (Florence Briggs Th...  female  38.0      1   \n",
       "2                             Heikkinen, Miss. Laina  female  26.0      0   \n",
       "3       Futrelle, Mrs. Jacques Heath (Lily May Peel)  female  35.0      1   \n",
       "4                           Allen, Mr. William Henry    male  35.0      0   \n",
       "\n",
       "   Parch            Ticket     Fare Cabin Embarked  \n",
       "0      0         A/5 21171   7.2500   NaN        S  \n",
       "1      0          PC 17599  71.2833   C85        C  \n",
       "2      0  STON/O2. 3101282   7.9250   NaN        S  \n",
       "3      0            113803  53.1000  C123        S  \n",
       "4      0            373450   8.0500   NaN        S  "
      ]
     },
     "execution_count": 2,
     "metadata": {},
     "output_type": "execute_result"
    }
   ],
   "source": [
    "titanic = pd.read_csv('https://github.com/mbburova/MDS/raw/main/titanic.csv')\n",
    "titanic.head()"
   ]
  },
  {
   "cell_type": "markdown",
   "metadata": {
    "colab_type": "text",
    "deletable": false,
    "editable": false,
    "id": "oB4Yts808Zy0",
    "nbgrader": {
     "cell_type": "markdown",
     "checksum": "b157aeb0c038b4409929e8dd3ca57f80",
     "grade": false,
     "grade_id": "cell-2bb77c57b5e35580",
     "locked": true,
     "schema_version": 3,
     "solution": false,
     "task": false
    }
   },
   "source": [
    "We have data for Titanic passengers, the goal is to predict the column `Survived`."
   ]
  },
  {
   "cell_type": "markdown",
   "metadata": {
    "colab_type": "text",
    "deletable": false,
    "editable": false,
    "id": "0J9rbBfC-oXz",
    "nbgrader": {
     "cell_type": "markdown",
     "checksum": "86b898f53d69b1308154d7d39644048f",
     "grade": false,
     "grade_id": "cell-43979b891da25a75",
     "locked": true,
     "schema_version": 3,
     "solution": false,
     "task": false
    }
   },
   "source": [
    "## 1.1 Explore the target <a class=\"anchor\" id=\"target\"></a>\n",
    "\n",
    "To begin with, let us plot the barplot for the traget variable. It is very convenient to use wrapper around `matplotlib` provided by `pandas`. You can read about it [here](https://pandas.pydata.org/pandas-docs/stable/user_guide/cookbook.html#cookbook-plotting)."
   ]
  },
  {
   "cell_type": "code",
   "execution_count": 3,
   "metadata": {
    "colab": {
     "base_uri": "https://localhost:8080/",
     "height": 70
    },
    "colab_type": "code",
    "deletable": false,
    "editable": false,
    "executionInfo": {
     "elapsed": 727,
     "status": "ok",
     "timestamp": 1588941164772,
     "user": {
      "displayName": "Anna Kuzina",
      "photoUrl": "https://lh3.googleusercontent.com/a-/AOh14GiemaXGZADupTQf2gOFyfVMKD8BYzFXipMt2krfaeg=s64",
      "userId": "14976976853760262600"
     },
     "user_tz": -180
    },
    "id": "KbjWspnu_bjZ",
    "nbgrader": {
     "cell_type": "code",
     "checksum": "ad4d99a942535901665ee08830f5e4b5",
     "grade": false,
     "grade_id": "cell-1e27e7fdd095a924",
     "locked": true,
     "schema_version": 3,
     "solution": false,
     "task": false
    },
    "outputId": "0ee65d2c-481c-49c3-e9ea-94de6ded4155"
   },
   "outputs": [
    {
     "data": {
      "image/png": "[encoded data removed]",
      "text/plain": [
       "<Figure size 640x480 with 1 Axes>"
      ]
     },
     "metadata": {},
     "output_type": "display_data"
    }
   ],
   "source": [
    "titanic.Survived.value_counts().plot(kind='bar')\n",
    "plt.grid()\n",
    "plt.title('Distirbution of the target variable');"
   ]
  },
  {
   "cell_type": "markdown",
   "metadata": {
    "deletable": false,
    "editable": false,
    "nbgrader": {
     "cell_type": "markdown",
     "checksum": "792236382b32831f7995e9759bd5bd5c",
     "grade": false,
     "grade_id": "cell-de2f3f6602aa13a3",
     "locked": true,
     "schema_version": 3,
     "solution": false,
     "task": false
    }
   },
   "source": [
    "---\n",
    "## 1.2 Explore categorical features <a class=\"anchor\" id=\"cat_features\"></a>\n",
    "\n",
    "\n",
    "We will start from creating a new feature called `Title`. By the title we mean the name prefix, such as `Mr`, `Miss`, `Dr` etc. It may tell us a lot about age or family status of the passenger even if this information is missing from the dataset. \n",
    "\n",
    "Let us take a look at some of the `Name` values. You can see that for each passenger name is organised as: \n",
    "\n",
    "```\n",
    "Surname, Title. Name\n",
    "```"
   ]
  },
  {
   "cell_type": "code",
   "execution_count": 4,
   "metadata": {},
   "outputs": [
    {
     "data": {
      "text/plain": [
       "0                              Braund, Mr. Owen Harris\n",
       "1    Cumings, Mrs. John Bradley (Florence Briggs Th...\n",
       "2                               Heikkinen, Miss. Laina\n",
       "3         Futrelle, Mrs. Jacques Heath (Lily May Peel)\n",
       "4                             Allen, Mr. William Henry\n",
       "5                                     Moran, Mr. James\n",
       "6                              McCarthy, Mr. Timothy J\n",
       "7                       Palsson, Master. Gosta Leonard\n",
       "8    Johnson, Mrs. Oscar W (Elisabeth Vilhelmina Berg)\n",
       "9                  Nasser, Mrs. Nicholas (Adele Achem)\n",
       "Name: Name, dtype: object"
      ]
     },
     "execution_count": 4,
     "metadata": {},
     "output_type": "execute_result"
    }
   ],
   "source": [
    "titanic.Name[:10]"
   ]
  },
  {
   "cell_type": "markdown",
   "metadata": {
    "deletable": false,
    "editable": false,
    "nbgrader": {
     "cell_type": "markdown",
     "checksum": "8ee0c245bf2ff2b4b5ddf539825964ce",
     "grade": false,
     "grade_id": "cell-659ab36c0b2d9999",
     "locked": true,
     "schema_version": 3,
     "solution": false,
     "task": false
    }
   },
   "source": [
    "---\n",
    "**Task 1** [2 pts] Add a new column `Title` to the `titanic` dataframe. <a class=\"anchor\" id=\"task1\"></a>\n",
    "\n",
    "*Hints:* \n",
    "1. You need to extract part of the string from each value of the `Name` column\n",
    "2. `pandas.Series.str` has wide variaty of vectorized string functions. That is, if you run `titanic.Name.str.useful_function()`, then `useful_function()` will be applied to each element of the column `Name`. Take a look at the [documentation](https://pandas.pydata.org/pandas-docs/stable/reference/api/pandas.Series.str.html) for more details and the list of \"useful functions\".\n",
    "3. You'll likelily need to apply regular expressions (but it is also to possible to do the task without it). Do not worry, it is nothing sophisticated. Here is all you need to know:\n",
    " * `[a-zA-Z]` - refers to any letter \n",
    " * `\\.` - refers to the dot\n",
    " * `\\,` - refers to the comma\n",
    " * `+` - means that the element repeats 1 or more times. E.g. `\\.+` means 1 or more dots\n",
    " * `\\s` - refers to any spacing sign \n",
    "4. Extract the title without the dot that goes after it"
   ]
  },
  {
   "cell_type": "code",
   "execution_count": 5,
   "metadata": {
    "deletable": false,
    "nbgrader": {
     "cell_type": "code",
     "checksum": "faae5d70336e9f6f2e3d50b8af096cc0",
     "grade": false,
     "grade_id": "cell-f91f30953488d53c",
     "locked": false,
     "schema_version": 3,
     "solution": true,
     "task": false
    }
   },
   "outputs": [],
   "source": [
    "re = ', ([A-Z][a-z]+)\\.'\n",
    "\n",
    "# extract title\n",
    "titanic['Title'] = titanic.Name.str.extract(re)"
   ]
  },
  {
   "cell_type": "code",
   "execution_count": 6,
   "metadata": {
    "deletable": false,
    "editable": false,
    "nbgrader": {
     "cell_type": "code",
     "checksum": "da69098e7723647f5011d1d535bb4f8a",
     "grade": true,
     "grade_id": "cell-4067a2abcca23a51",
     "locked": true,
     "points": 2,
     "schema_version": 3,
     "solution": false,
     "task": false
    }
   },
   "outputs": [
    {
     "name": "stdout",
     "output_type": "stream",
     "text": [
      "Mr          517\n",
      "Miss        182\n",
      "Mrs         125\n",
      "Master       40\n",
      "Dr            7\n",
      "Rev           6\n",
      "Major         2\n",
      "Mlle          2\n",
      "Col           2\n",
      "Don           1\n",
      "Mme           1\n",
      "Ms            1\n",
      "Lady          1\n",
      "Sir           1\n",
      "Capt          1\n",
      "Jonkheer      1\n",
      "Name: Title, dtype: int64\n"
     ]
    }
   ],
   "source": [
    "print(titanic['Title'].value_counts())"
   ]
  },
  {
   "cell_type": "markdown",
   "metadata": {
    "deletable": false,
    "editable": false,
    "nbgrader": {
     "cell_type": "markdown",
     "checksum": "f9c9b83cdaa003df5c3395ef4c022e0d",
     "grade": false,
     "grade_id": "cell-e9206102af974de2",
     "locked": true,
     "schema_version": 3,
     "solution": false,
     "task": false
    }
   },
   "source": [
    "<a class=\"anchor\" id=\"task2\"></a>\n",
    "You can see that some titles are very rare, which makes their usefulness questionable. We will now combine all the titles which has 6 or less observations into one category called `Other`.\n",
    "\n",
    "---\n",
    "**Task 2** [1 pt]. Create a vector `proper_titles` which contains all titles with > 6 observations. For all the passengers, who have title not from the `proper_titles` list, rename their `Title` to `Other`."
   ]
  },
  {
   "cell_type": "code",
   "execution_count": 7,
   "metadata": {
    "deletable": false,
    "nbgrader": {
     "cell_type": "code",
     "checksum": "88a7c8e3e1ca2c6b99160e9bdec3e313",
     "grade": false,
     "grade_id": "cell-47b93248f33ead1e",
     "locked": false,
     "schema_version": 3,
     "solution": true,
     "task": false
    }
   },
   "outputs": [],
   "source": [
    "proper_titles = titanic['Title'].value_counts()[titanic['Title'].value_counts() > 6].index.tolist()\n",
    "\n",
    "titanic['Title'] = titanic['Title'].apply(lambda x: x if x in proper_titles else 'Other')"
   ]
  },
  {
   "cell_type": "code",
   "execution_count": 8,
   "metadata": {
    "deletable": false,
    "editable": false,
    "nbgrader": {
     "cell_type": "code",
     "checksum": "51dfd480a045fc39443cf44c2aa2d289",
     "grade": true,
     "grade_id": "cell-7198654d5aa00053",
     "locked": true,
     "points": 1,
     "schema_version": 3,
     "solution": false,
     "task": false
    }
   },
   "outputs": [
    {
     "name": "stdout",
     "output_type": "stream",
     "text": [
      "['Mr', 'Miss', 'Mrs', 'Master', 'Dr']\n",
      "\n",
      "Mr        517\n",
      "Miss      182\n",
      "Mrs       125\n",
      "Master     40\n",
      "Other      20\n",
      "Dr          7\n",
      "Name: Title, dtype: int64\n"
     ]
    }
   ],
   "source": [
    "print(proper_titles)\n",
    "print()\n",
    "print(titanic.Title.value_counts())\n"
   ]
  },
  {
   "cell_type": "markdown",
   "metadata": {
    "colab_type": "text",
    "deletable": false,
    "editable": false,
    "id": "W-Qq4H5oADeH",
    "nbgrader": {
     "cell_type": "markdown",
     "checksum": "b01f130ce357a8c785deb3e9efd973c1",
     "grade": false,
     "grade_id": "cell-ddab173c45e06018",
     "locked": true,
     "schema_version": 3,
     "solution": false,
     "task": false
    }
   },
   "source": [
    "---\n",
    "<a class=\"anchor\" id=\"task3\"></a>\n",
    "**Task 3** [1 pt] Obtain the list of all the categorical columns (columns with data type `object`). Name this list `categ_columns`."
   ]
  },
  {
   "cell_type": "code",
   "execution_count": 9,
   "metadata": {
    "colab": {
     "base_uri": "https://localhost:8080/",
     "height": 34
    },
    "colab_type": "code",
    "deletable": false,
    "executionInfo": {
     "elapsed": 859,
     "status": "ok",
     "timestamp": 1588936163340,
     "user": {
      "displayName": "Anna Kuzina",
      "photoUrl": "https://lh3.googleusercontent.com/a-/AOh14GiemaXGZADupTQf2gOFyfVMKD8BYzFXipMt2krfaeg=s64",
      "userId": "14976976853760262600"
     },
     "user_tz": -180
    },
    "id": "7zFhkTUf-neq",
    "nbgrader": {
     "cell_type": "code",
     "checksum": "c8881c26fa58c72ef43d2d3a57ae5353",
     "grade": false,
     "grade_id": "cell-9c53839214569788",
     "locked": false,
     "schema_version": 3,
     "solution": true,
     "task": false
    },
    "outputId": "d30186ab-f6cb-42f6-85ef-738e67b7954c"
   },
   "outputs": [],
   "source": [
    "# list of categorical columns\n",
    "categ_columns = titanic.select_dtypes(include='object').columns.tolist()"
   ]
  },
  {
   "cell_type": "code",
   "execution_count": 10,
   "metadata": {
    "deletable": false,
    "editable": false,
    "nbgrader": {
     "cell_type": "code",
     "checksum": "07ab2a7512ca1479d99247270bab92b3",
     "grade": true,
     "grade_id": "cell-5242f229019f70a9",
     "locked": true,
     "points": 1,
     "schema_version": 3,
     "solution": false,
     "task": false
    }
   },
   "outputs": [
    {
     "name": "stdout",
     "output_type": "stream",
     "text": [
      "['Name', 'Sex', 'Ticket', 'Cabin', 'Embarked', 'Title']\n"
     ]
    }
   ],
   "source": [
    "print(categ_columns)"
   ]
  },
  {
   "cell_type": "markdown",
   "metadata": {
    "deletable": false,
    "editable": false,
    "nbgrader": {
     "cell_type": "markdown",
     "checksum": "56c2f67551366e0e8c91ac64d42a7a9c",
     "grade": false,
     "grade_id": "cell-d43470d598f11ad2",
     "locked": true,
     "schema_version": 3,
     "solution": false,
     "task": false
    }
   },
   "source": [
    "Let us explore these categorical features in more details. We will use method `describe` to obtain some statistics about them. "
   ]
  },
  {
   "cell_type": "code",
   "execution_count": 11,
   "metadata": {
    "deletable": false,
    "editable": false,
    "nbgrader": {
     "cell_type": "code",
     "checksum": "85ce8faa49c342101587efc09e623adf",
     "grade": false,
     "grade_id": "cell-061f497fa0776872",
     "locked": true,
     "schema_version": 3,
     "solution": false,
     "task": false
    }
   },
   "outputs": [
    {
     "data": {
      "text/html": [
       "<div>\n",
       "<style scoped>\n",
       "    .dataframe tbody tr th:only-of-type {\n",
       "        vertical-align: middle;\n",
       "    }\n",
       "\n",
       "    .dataframe tbody tr th {\n",
       "        vertical-align: top;\n",
       "    }\n",
       "\n",
       "    .dataframe thead th {\n",
       "        text-align: right;\n",
       "    }\n",
       "</style>\n",
       "<table border=\"1\" class=\"dataframe\">\n",
       "  <thead>\n",
       "    <tr style=\"text-align: right;\">\n",
       "      <th></th>\n",
       "      <th>Name</th>\n",
       "      <th>Sex</th>\n",
       "      <th>Ticket</th>\n",
       "      <th>Cabin</th>\n",
       "      <th>Embarked</th>\n",
       "      <th>Title</th>\n",
       "    </tr>\n",
       "  </thead>\n",
       "  <tbody>\n",
       "    <tr>\n",
       "      <th>count</th>\n",
       "      <td>891</td>\n",
       "      <td>891</td>\n",
       "      <td>891</td>\n",
       "      <td>204</td>\n",
       "      <td>889</td>\n",
       "      <td>891</td>\n",
       "    </tr>\n",
       "    <tr>\n",
       "      <th>unique</th>\n",
       "      <td>891</td>\n",
       "      <td>2</td>\n",
       "      <td>681</td>\n",
       "      <td>147</td>\n",
       "      <td>3</td>\n",
       "      <td>6</td>\n",
       "    </tr>\n",
       "    <tr>\n",
       "      <th>top</th>\n",
       "      <td>Braund, Mr. Owen Harris</td>\n",
       "      <td>male</td>\n",
       "      <td>347082</td>\n",
       "      <td>B96 B98</td>\n",
       "      <td>S</td>\n",
       "      <td>Mr</td>\n",
       "    </tr>\n",
       "    <tr>\n",
       "      <th>freq</th>\n",
       "      <td>1</td>\n",
       "      <td>577</td>\n",
       "      <td>7</td>\n",
       "      <td>4</td>\n",
       "      <td>644</td>\n",
       "      <td>517</td>\n",
       "    </tr>\n",
       "  </tbody>\n",
       "</table>\n",
       "</div>"
      ],
      "text/plain": [
       "                           Name   Sex  Ticket    Cabin Embarked Title\n",
       "count                       891   891     891      204      889   891\n",
       "unique                      891     2     681      147        3     6\n",
       "top     Braund, Mr. Owen Harris  male  347082  B96 B98        S    Mr\n",
       "freq                          1   577       7        4      644   517"
      ]
     },
     "execution_count": 11,
     "metadata": {},
     "output_type": "execute_result"
    }
   ],
   "source": [
    "titanic[categ_columns].describe(include='object')"
   ]
  },
  {
   "cell_type": "markdown",
   "metadata": {
    "deletable": false,
    "editable": false,
    "nbgrader": {
     "cell_type": "markdown",
     "checksum": "d5ed9d8c2f7e24c1829ad0fa6bd73f89",
     "grade": false,
     "grade_id": "cell-f56de32d30029803",
     "locked": true,
     "schema_version": 3,
     "solution": false,
     "task": false
    }
   },
   "source": [
    "Sometimes, categorical columns contain too many unique values, which do not have a lot of information about the task we are solving. There are cases, when it is possible to extract some useful details from such variables (as we just did with the `Name`). But if you can't it might be better to drop such variable. \n",
    "\n",
    "\n",
    "---\n",
    "<a class=\"anchor\" id=\"task4\"></a>\n",
    "**Task 4** [1 pt] Remove all the categorical features, which have more than 100 unique values. \n",
    "\n",
    "P.S. Remove the corresponding columns from the dataframe `titanic` and unpdate list of categorical feature `categ_columns` to contain only categorical features that are left. "
   ]
  },
  {
   "cell_type": "code",
   "execution_count": 12,
   "metadata": {
    "deletable": false,
    "nbgrader": {
     "cell_type": "code",
     "checksum": "48b0c0b998db36148b509bf575edb978",
     "grade": false,
     "grade_id": "cell-2d21a7cb77daf9b6",
     "locked": false,
     "schema_version": 3,
     "solution": true,
     "task": false
    }
   },
   "outputs": [],
   "source": [
    "unique_values = titanic[categ_columns].nunique()\n",
    "\n",
    "titanic = titanic.drop(columns=unique_values[unique_values > 100].index.tolist())\n",
    "categ_columns = titanic.select_dtypes(include='object').columns.tolist()"
   ]
  },
  {
   "cell_type": "code",
   "execution_count": 13,
   "metadata": {
    "deletable": false,
    "editable": false,
    "nbgrader": {
     "cell_type": "code",
     "checksum": "d6c9bf52941ae6933ec3fed9d1e561b7",
     "grade": true,
     "grade_id": "cell-71c524a3b5756bce",
     "locked": true,
     "points": 1,
     "schema_version": 3,
     "solution": false,
     "task": false
    }
   },
   "outputs": [
    {
     "name": "stdout",
     "output_type": "stream",
     "text": [
      "['Sex', 'Embarked', 'Title']\n"
     ]
    },
    {
     "data": {
      "text/html": [
       "<div>\n",
       "<style scoped>\n",
       "    .dataframe tbody tr th:only-of-type {\n",
       "        vertical-align: middle;\n",
       "    }\n",
       "\n",
       "    .dataframe tbody tr th {\n",
       "        vertical-align: top;\n",
       "    }\n",
       "\n",
       "    .dataframe thead th {\n",
       "        text-align: right;\n",
       "    }\n",
       "</style>\n",
       "<table border=\"1\" class=\"dataframe\">\n",
       "  <thead>\n",
       "    <tr style=\"text-align: right;\">\n",
       "      <th></th>\n",
       "      <th>Sex</th>\n",
       "      <th>Embarked</th>\n",
       "      <th>Title</th>\n",
       "    </tr>\n",
       "  </thead>\n",
       "  <tbody>\n",
       "    <tr>\n",
       "      <th>0</th>\n",
       "      <td>male</td>\n",
       "      <td>S</td>\n",
       "      <td>Mr</td>\n",
       "    </tr>\n",
       "    <tr>\n",
       "      <th>1</th>\n",
       "      <td>female</td>\n",
       "      <td>C</td>\n",
       "      <td>Mrs</td>\n",
       "    </tr>\n",
       "    <tr>\n",
       "      <th>2</th>\n",
       "      <td>female</td>\n",
       "      <td>S</td>\n",
       "      <td>Miss</td>\n",
       "    </tr>\n",
       "    <tr>\n",
       "      <th>3</th>\n",
       "      <td>female</td>\n",
       "      <td>S</td>\n",
       "      <td>Mrs</td>\n",
       "    </tr>\n",
       "    <tr>\n",
       "      <th>4</th>\n",
       "      <td>male</td>\n",
       "      <td>S</td>\n",
       "      <td>Mr</td>\n",
       "    </tr>\n",
       "  </tbody>\n",
       "</table>\n",
       "</div>"
      ],
      "text/plain": [
       "      Sex Embarked Title\n",
       "0    male        S    Mr\n",
       "1  female        C   Mrs\n",
       "2  female        S  Miss\n",
       "3  female        S   Mrs\n",
       "4    male        S    Mr"
      ]
     },
     "execution_count": 13,
     "metadata": {},
     "output_type": "execute_result"
    }
   ],
   "source": [
    "print(categ_columns)\n",
    "\n",
    "titanic[categ_columns].head()"
   ]
  },
  {
   "cell_type": "markdown",
   "metadata": {
    "deletable": false,
    "editable": false,
    "nbgrader": {
     "cell_type": "markdown",
     "checksum": "17a50fabbe239e380ffeee2b17548a6b",
     "grade": false,
     "grade_id": "cell-8351e787208feef7",
     "locked": true,
     "schema_version": 3,
     "solution": false,
     "task": false
    }
   },
   "source": [
    "Let's consider distribution of all the categorical features now\n",
    "\n",
    "---\n",
    "<a class=\"anchor\" id=\"task5\"></a>\n",
    "**Task 5** [Peer Reviewed] For each categorical feature draw two bar plots side by side. On the first plot, height of the bar should depict number of passengers in each category, while on the second, height of the bar should depict propostion of survived passengers in the category. "
   ]
  },
  {
   "cell_type": "code",
   "execution_count": 14,
   "metadata": {
    "deletable": false,
    "nbgrader": {
     "cell_type": "code",
     "checksum": "b8170b00b1f82b41eb1f7d3575c91483",
     "grade": false,
     "grade_id": "cell-090a99b82541ea3f",
     "locked": false,
     "schema_version": 3,
     "solution": true,
     "task": false
    }
   },
   "outputs": [
    {
     "data": {
      "image/png": "[encoded data removed]",
      "text/plain": [
       "<Figure size 2000x2000 with 6 Axes>"
      ]
     },
     "metadata": {},
     "output_type": "display_data"
    }
   ],
   "source": [
    "# For each categorical feature draw two bar plots side by side. On the first plot, height of the bar should depict number of passengers in each category, while on the second, height of the bar should depict proportion of survived passengers in the category. \n",
    "\n",
    "plt.figure(figsize=(20, 20))\n",
    "for i, col in enumerate(categ_columns):\n",
    "    plt.subplot(3, 3, i+1)\n",
    "    titanic[col].value_counts().plot(kind='bar', ax=plt.gca())\n",
    "    plt.grid()\n",
    "    plt.title(col)\n",
    "    plt.subplot(3, 3, i+1+3)\n",
    "    titanic.groupby(col)['Survived'].mean().plot(kind='bar', ax=plt.gca())\n",
    "    plt.grid()\n",
    "    plt.title(col)\n",
    "plt.tight_layout()"
   ]
  },
  {
   "cell_type": "markdown",
   "metadata": {
    "deletable": false,
    "editable": false,
    "nbgrader": {
     "cell_type": "markdown",
     "checksum": "6b05828e2d3cd65cfffa095482de29be",
     "grade": false,
     "grade_id": "cell-7f0b8ac91af2ffb1",
     "locked": true,
     "schema_version": 3,
     "solution": false,
     "task": false
    }
   },
   "source": [
    "---\n",
    "## 1.3 Ordinal and Numeric Features <a class=\"anchor\" id=\"rest_features\"></a>\n",
    "\n",
    "Now consider the rest of the dataset. Below you can see the first few observations from all the non-categorical features."
   ]
  },
  {
   "cell_type": "code",
   "execution_count": 15,
   "metadata": {
    "deletable": false,
    "editable": false,
    "nbgrader": {
     "cell_type": "code",
     "checksum": "60136fc715f98847e0f38ca4f3716cd2",
     "grade": false,
     "grade_id": "cell-5538737b58116800",
     "locked": true,
     "schema_version": 3,
     "solution": false,
     "task": false
    }
   },
   "outputs": [
    {
     "data": {
      "text/html": [
       "<div>\n",
       "<style scoped>\n",
       "    .dataframe tbody tr th:only-of-type {\n",
       "        vertical-align: middle;\n",
       "    }\n",
       "\n",
       "    .dataframe tbody tr th {\n",
       "        vertical-align: top;\n",
       "    }\n",
       "\n",
       "    .dataframe thead th {\n",
       "        text-align: right;\n",
       "    }\n",
       "</style>\n",
       "<table border=\"1\" class=\"dataframe\">\n",
       "  <thead>\n",
       "    <tr style=\"text-align: right;\">\n",
       "      <th></th>\n",
       "      <th>PassengerId</th>\n",
       "      <th>Pclass</th>\n",
       "      <th>Age</th>\n",
       "      <th>SibSp</th>\n",
       "      <th>Parch</th>\n",
       "      <th>Fare</th>\n",
       "    </tr>\n",
       "  </thead>\n",
       "  <tbody>\n",
       "    <tr>\n",
       "      <th>0</th>\n",
       "      <td>1</td>\n",
       "      <td>3</td>\n",
       "      <td>22.0</td>\n",
       "      <td>1</td>\n",
       "      <td>0</td>\n",
       "      <td>7.2500</td>\n",
       "    </tr>\n",
       "    <tr>\n",
       "      <th>1</th>\n",
       "      <td>2</td>\n",
       "      <td>1</td>\n",
       "      <td>38.0</td>\n",
       "      <td>1</td>\n",
       "      <td>0</td>\n",
       "      <td>71.2833</td>\n",
       "    </tr>\n",
       "    <tr>\n",
       "      <th>2</th>\n",
       "      <td>3</td>\n",
       "      <td>3</td>\n",
       "      <td>26.0</td>\n",
       "      <td>0</td>\n",
       "      <td>0</td>\n",
       "      <td>7.9250</td>\n",
       "    </tr>\n",
       "    <tr>\n",
       "      <th>3</th>\n",
       "      <td>4</td>\n",
       "      <td>1</td>\n",
       "      <td>35.0</td>\n",
       "      <td>1</td>\n",
       "      <td>0</td>\n",
       "      <td>53.1000</td>\n",
       "    </tr>\n",
       "    <tr>\n",
       "      <th>4</th>\n",
       "      <td>5</td>\n",
       "      <td>3</td>\n",
       "      <td>35.0</td>\n",
       "      <td>0</td>\n",
       "      <td>0</td>\n",
       "      <td>8.0500</td>\n",
       "    </tr>\n",
       "  </tbody>\n",
       "</table>\n",
       "</div>"
      ],
      "text/plain": [
       "   PassengerId  Pclass   Age  SibSp  Parch     Fare\n",
       "0            1       3  22.0      1      0   7.2500\n",
       "1            2       1  38.0      1      0  71.2833\n",
       "2            3       3  26.0      0      0   7.9250\n",
       "3            4       1  35.0      1      0  53.1000\n",
       "4            5       3  35.0      0      0   8.0500"
      ]
     },
     "execution_count": 15,
     "metadata": {},
     "output_type": "execute_result"
    }
   ],
   "source": [
    "titanic[[c for c in titanic.columns if c not in categ_columns + ['Survived']]].head()"
   ]
  },
  {
   "cell_type": "markdown",
   "metadata": {
    "colab_type": "text",
    "deletable": false,
    "editable": false,
    "id": "S0VBjAXLE8i_",
    "nbgrader": {
     "cell_type": "markdown",
     "checksum": "bc89db7e21158ec38c7f358f03acd28a",
     "grade": false,
     "grade_id": "cell-05fd8fc062a95bf9",
     "locked": true,
     "schema_version": 3,
     "solution": false,
     "task": false
    }
   },
   "source": [
    "---\n",
    "<a class=\"anchor\" id=\"task6\"></a>\n",
    "**Task 6** [Peer graded] We suggest removing the feature `PassengerID` from the dataset. Please do it below and write your comment on why this is a resonalbe thing to do. "
   ]
  },
  {
   "cell_type": "code",
   "execution_count": 16,
   "metadata": {
    "deletable": false,
    "nbgrader": {
     "cell_type": "code",
     "checksum": "2e73bd91bbe4d8f5b6b56797d2246f73",
     "grade": false,
     "grade_id": "cell-42648579773c6948",
     "locked": false,
     "schema_version": 3,
     "solution": true,
     "task": false
    }
   },
   "outputs": [],
   "source": [
    "titanic = titanic.drop(columns='PassengerId')"
   ]
  },
  {
   "cell_type": "markdown",
   "metadata": {},
   "source": [
    "PassengerId represent the unique identifier of the passenger. It is not a feature, hence it is useless for our model."
   ]
  },
  {
   "cell_type": "code",
   "execution_count": 17,
   "metadata": {
    "deletable": false,
    "editable": false,
    "nbgrader": {
     "cell_type": "code",
     "checksum": "685334fb067173dbd9a00c4afd15cc03",
     "grade": true,
     "grade_id": "cell-7d561bb892a04130",
     "locked": true,
     "points": 0,
     "schema_version": 3,
     "solution": false,
     "task": false
    }
   },
   "outputs": [],
   "source": [
    "assert 'PassengerId' not in titanic.columns"
   ]
  },
  {
   "cell_type": "markdown",
   "metadata": {
    "deletable": false,
    "editable": false,
    "nbgrader": {
     "cell_type": "markdown",
     "checksum": "928ff91f2c10ac22cce88b3c197390d6",
     "grade": false,
     "grade_id": "cell-7f0885ecf3fb9ff9",
     "locked": true,
     "schema_version": 3,
     "solution": false,
     "task": false
    }
   },
   "source": [
    "**Peer Review Grading.** Please read the comment above and check the validity of the arguments"
   ]
  },
  {
   "cell_type": "markdown",
   "metadata": {
    "deletable": false,
    "editable": false,
    "nbgrader": {
     "cell_type": "markdown",
     "checksum": "faa030b4ddd558b778bf33ecde2b1b51",
     "grade": false,
     "grade_id": "cell-ff19344ea51e30dc",
     "locked": true,
     "schema_version": 3,
     "solution": false,
     "task": false
    }
   },
   "source": [
    "---\n",
    "Consider two columns: `SibSp` and `Parch`. The first one is responsibel for number of Siblings/Spouses aboard the Titanic for the given passenger. The second one - number of parents/childer aboard the Titanic. Note that we can create one variable `FamilySize` out of these two. \n",
    "\n",
    "<a class=\"anchor\" id=\"task7\"></a>\n",
    "**Task 7** [1 pt] Create a variable `FamilySize` as a total size of the passenger's family aboard. Remove columns `SibSp` and `Parch` from the dataset afterwards. "
   ]
  },
  {
   "cell_type": "code",
   "execution_count": 18,
   "metadata": {
    "deletable": false,
    "nbgrader": {
     "cell_type": "code",
     "checksum": "5b05cfa48188a431f8ecae2ae6608454",
     "grade": false,
     "grade_id": "cell-d93f717ddc47d367",
     "locked": false,
     "schema_version": 3,
     "solution": true,
     "task": false
    }
   },
   "outputs": [],
   "source": [
    "titanic['FamilySize'] = titanic['SibSp'] + titanic['Parch']\n",
    "titanic = titanic.drop(columns=['SibSp', 'Parch'])"
   ]
  },
  {
   "cell_type": "code",
   "execution_count": 19,
   "metadata": {
    "deletable": false,
    "editable": false,
    "nbgrader": {
     "cell_type": "code",
     "checksum": "1176141d6dc6d3d2ab8a298dcbb12a48",
     "grade": true,
     "grade_id": "cell-1511c808b2ea4da4",
     "locked": true,
     "points": 1,
     "schema_version": 3,
     "solution": false,
     "task": false
    }
   },
   "outputs": [
    {
     "data": {
      "image/png": "[encoded data removed]",
      "text/plain": [
       "<Figure size 640x480 with 1 Axes>"
      ]
     },
     "metadata": {},
     "output_type": "display_data"
    }
   ],
   "source": [
    "titanic.FamilySize.value_counts().sort_index().plot(kind='bar')\n",
    "plt.title('Family Size')\n",
    "plt.grid()"
   ]
  },
  {
   "cell_type": "markdown",
   "metadata": {
    "deletable": false,
    "editable": false,
    "nbgrader": {
     "cell_type": "markdown",
     "checksum": "3698db6988f8d66d5f08a82bdc0bb270",
     "grade": false,
     "grade_id": "cell-f42e8dedc8e82c64",
     "locked": true,
     "schema_version": 3,
     "solution": false,
     "task": false
    }
   },
   "source": [
    "---\n",
    "Let us work with the variable `FamilySize` even further. Turns out, that sometimes it is reasonable to convert numerical feature into ordinal ones. E.g. instead of having a family size we can group peopple into `single`, `small_family`, etc. In this manner we can enforce larger distinction between people who do not have family at all and those who have small families. At the same time we can say that for the sake of our application we do not need to distiguish family of size 1 from the family of size 2. \n",
    "\n",
    "<a class=\"anchor\" id=\"task8\"></a>\n",
    "**Task 8** [Peer Graded]. Plot the bar plot for the variable `FamilySize` where the height of the bar is determined by the proportion of the survived passengers. Based on the created plot split all the passengers into tree groups. For each group create a binary variable `FamilySize_1`, `FamilySize_2` and `FamilySize_3`. Justify the split that you've chosen."
   ]
  },
  {
   "cell_type": "code",
   "execution_count": 20,
   "metadata": {
    "deletable": false,
    "nbgrader": {
     "cell_type": "code",
     "checksum": "04c1d8180fb7d57c73d474dd4e15eca1",
     "grade": false,
     "grade_id": "cell-4d78b5bcd190dec1",
     "locked": false,
     "schema_version": 3,
     "solution": true,
     "task": false
    }
   },
   "outputs": [
    {
     "data": {
      "image/png": "[encoded data removed]",
      "text/plain": [
       "<Figure size 1000x500 with 1 Axes>"
      ]
     },
     "metadata": {},
     "output_type": "display_data"
    }
   ],
   "source": [
    "plt.figure(figsize=(10, 5))\n",
    "titanic.groupby('FamilySize')['Survived'].mean().plot(kind='bar')\n",
    "plt.grid()\n"
   ]
  },
  {
   "cell_type": "code",
   "execution_count": 21,
   "metadata": {},
   "outputs": [],
   "source": [
    "titanic['FamilySize_1'] = titanic['FamilySize'].apply(lambda x: 1 if x > 0 and x <= 2 else 0)\n",
    "titanic['FamilySize_2'] = titanic['FamilySize'].apply(lambda x: 1 if x > 2 and x <= 4 else 0)\n",
    "titanic['FamilySize_3'] = titanic['FamilySize'].apply(lambda x: 1 if x > 4 else 0)\n",
    "\n",
    "# make familiy size ordinal\n",
    "# titanic['FamilySize'] = titanic['FamilySize'].apply(lambda x: 1 if x > 0 and x <= 2 else 2 if x > 2 and x <= 4 else 3)"
   ]
  },
  {
   "cell_type": "markdown",
   "metadata": {},
   "source": [
    "\n",
    "- FamilySize_1: 0-2 people in family\n",
    "- FamilySize_2: 3-4 people in family\n",
    "- FamilySize_3: 5+ people in family\n",
    "\n",
    "It can be justified based on the plot. FamilySize1 & FamilySize2 have similar survival rates, while FamilySize3 has a lower survival rate."
   ]
  },
  {
   "cell_type": "markdown",
   "metadata": {
    "deletable": false,
    "editable": false,
    "nbgrader": {
     "cell_type": "markdown",
     "checksum": "cb9eb3433e847752521d1534449c1a21",
     "grade": false,
     "grade_id": "cell-b05e96d8c3045393",
     "locked": true,
     "schema_version": 3,
     "solution": false,
     "task": false
    }
   },
   "source": [
    "**Peer Review Grading.** Please check that the plot above is correct (below you can see the correct answer). Also read the comment about the way the passengers were split on the groupd and check that the splitting is reasonable.\n",
    "\n",
    "<img src=\"task8_corrrect.png\" width=400 height=400 />\n",
    "\n",
    "\n",
    "---\n",
    "\n",
    "Basically, we've just converted numerical feature `FamilySize` into categorical one with three categories. Moreover, we've simultaniously performed One-hot encoding of this categorical feature and obtained three binary variables. Now we can drop the feature `FamilySize` as it is not needed anymore."
   ]
  },
  {
   "cell_type": "code",
   "execution_count": 22,
   "metadata": {},
   "outputs": [],
   "source": [
    "titanic.drop(['FamilySize'], axis=1, inplace=True)"
   ]
  },
  {
   "cell_type": "markdown",
   "metadata": {
    "deletable": false,
    "editable": false,
    "nbgrader": {
     "cell_type": "markdown",
     "checksum": "f4cbdab376332b8e811d826aa13a4497",
     "grade": false,
     "grade_id": "cell-f0df55b128f58491",
     "locked": true,
     "schema_version": 3,
     "solution": false,
     "task": false
    }
   },
   "source": [
    "---\n",
    "<a class=\"anchor\" id=\"task9\"></a>\n",
    "**Task 9** [1 pt]. We have three features left unexplored. They are `Pclass`, `Age` and `Fare`. The frist one stands for the ticket class, second - for the age of the passenger and the third one gives us price of the ticket. \n",
    "\n",
    "Please, create `ordinal_cols`, which will be list of all the ordinal columns (put there names of relevant columns) and `numeric_cols` - list with the names of the numeric columns. If there is no ordinal or numeric colums, make the corrisponding list empty."
   ]
  },
  {
   "cell_type": "code",
   "execution_count": 23,
   "metadata": {
    "deletable": false,
    "nbgrader": {
     "cell_type": "code",
     "checksum": "5732c5cd8729e4e9c8b6ac543443eff6",
     "grade": false,
     "grade_id": "cell-532a4f54cf51bb15",
     "locked": false,
     "schema_version": 3,
     "solution": true,
     "task": false
    }
   },
   "outputs": [],
   "source": [
    "# YOUR CODE HERE\n",
    "ordinal_cols = ['Pclass', 'FamilySize_1', 'FamilySize_2', 'FamilySize_3']\n",
    "numeric_cols = ['Age', 'Fare']"
   ]
  },
  {
   "cell_type": "code",
   "execution_count": 24,
   "metadata": {
    "deletable": false,
    "editable": false,
    "nbgrader": {
     "cell_type": "code",
     "checksum": "14fed0958eb846408338b76d447281a4",
     "grade": true,
     "grade_id": "cell-ac29edf4d82e0459",
     "locked": true,
     "points": 1,
     "schema_version": 3,
     "solution": false,
     "task": false
    }
   },
   "outputs": [
    {
     "name": "stdout",
     "output_type": "stream",
     "text": [
      "Ordinal columns are:  ['Pclass', 'FamilySize_1', 'FamilySize_2', 'FamilySize_3']\n",
      "Numeric columns are:  ['Age', 'Fare']\n"
     ]
    }
   ],
   "source": [
    "print('Ordinal columns are: ', ordinal_cols)\n",
    "print('Numeric columns are: ', numeric_cols)"
   ]
  },
  {
   "cell_type": "markdown",
   "metadata": {
    "colab_type": "text",
    "deletable": false,
    "editable": false,
    "id": "xdHkCw7CN-JP",
    "nbgrader": {
     "cell_type": "markdown",
     "checksum": "2ac13d3fa5b542a55727decf815e9c91",
     "grade": false,
     "grade_id": "cell-8b443a15975c90a9",
     "locked": true,
     "schema_version": 3,
     "solution": false,
     "task": false
    }
   },
   "source": [
    "We can use different plots to explore numerical features. Below you can find some examples with the variable `Age`.  "
   ]
  },
  {
   "cell_type": "code",
   "execution_count": 25,
   "metadata": {
    "colab": {
     "base_uri": "https://localhost:8080/",
     "height": 175
    },
    "colab_type": "code",
    "executionInfo": {
     "elapsed": 615,
     "status": "ok",
     "timestamp": 1588942709565,
     "user": {
      "displayName": "Anna Kuzina",
      "photoUrl": "https://lh3.googleusercontent.com/a-/AOh14GiemaXGZADupTQf2gOFyfVMKD8BYzFXipMt2krfaeg=s64",
      "userId": "14976976853760262600"
     },
     "user_tz": -180
    },
    "id": "7fLiaQLSE9z4",
    "outputId": "1b72bbe2-664d-4e7c-cb42-6ed4dd32f16f"
   },
   "outputs": [
    {
     "name": "stdout",
     "output_type": "stream",
     "text": [
      "\n",
      "We can use histograms or boxplots to see how numerical features depends on the categorical one.\n",
      "1. Age vs Target\n"
     ]
    },
    {
     "data": {
      "image/png": "[encoded data removed]",
      "text/plain": [
       "<Figure size 640x480 with 2 Axes>"
      ]
     },
     "metadata": {},
     "output_type": "display_data"
    },
    {
     "name": "stdout",
     "output_type": "stream",
     "text": [
      "\n",
      "2. Age vs Sex\n"
     ]
    },
    {
     "data": {
      "image/png": "[encoded data removed]",
      "text/plain": [
       "<Figure size 700x500 with 1 Axes>"
      ]
     },
     "metadata": {},
     "output_type": "display_data"
    },
    {
     "name": "stdout",
     "output_type": "stream",
     "text": [
      "3. Age vs Target\n"
     ]
    },
    {
     "data": {
      "image/png": "[encoded data removed]",
      "text/plain": [
       "<Figure size 700x500 with 1 Axes>"
      ]
     },
     "metadata": {},
     "output_type": "display_data"
    },
    {
     "name": "stdout",
     "output_type": "stream",
     "text": [
      "\n",
      "Scatter plots are usefull to spot connection between two numeric features.\n"
     ]
    },
    {
     "data": {
      "image/png": "[encoded data removed]",
      "text/plain": [
       "<Figure size 640x480 with 1 Axes>"
      ]
     },
     "metadata": {},
     "output_type": "display_data"
    }
   ],
   "source": [
    "print()\n",
    "print('We can use histograms or boxplots to see how numerical features depends on the categorical one.')\n",
    "print('1. Age vs Target')\n",
    "titanic.hist(column='Age', by='Survived', bins=20, sharey=True);\n",
    "plt.show();\n",
    "\n",
    "print()\n",
    "print('2. Age vs Sex')\n",
    "titanic.boxplot(column='Age', by='Sex', figsize=(7,5));\n",
    "plt.ylabel('Age');\n",
    "plt.show();\n",
    "\n",
    "print('3. Age vs Target')\n",
    "titanic.boxplot(column='Age', by='Title', figsize=(7,5));\n",
    "plt.ylabel('Age');\n",
    "plt.show();\n",
    "\n",
    "print()\n",
    "print('Scatter plots are usefull to spot connection between two numeric features.')\n",
    "titanic.plot.scatter(x='Age', y='Fare');\n",
    "plt.grid()\n",
    "plt.title('Scatter plot of Age and Fare');"
   ]
  },
  {
   "cell_type": "markdown",
   "metadata": {
    "colab": {
     "base_uri": "https://localhost:8080/",
     "height": 318
    },
    "colab_type": "code",
    "deletable": false,
    "editable": false,
    "executionInfo": {
     "elapsed": 721,
     "status": "ok",
     "timestamp": 1588943213481,
     "user": {
      "displayName": "Anna Kuzina",
      "photoUrl": "https://lh3.googleusercontent.com/a-/AOh14GiemaXGZADupTQf2gOFyfVMKD8BYzFXipMt2krfaeg=s64",
      "userId": "14976976853760262600"
     },
     "user_tz": -180
    },
    "id": "vWgnGSowPLSm",
    "nbgrader": {
     "cell_type": "markdown",
     "checksum": "55a06c8b7318f11ecca91ff684d85c96",
     "grade": false,
     "grade_id": "cell-1e34723320a6159f",
     "locked": true,
     "schema_version": 3,
     "solution": false,
     "task": false
    },
    "outputId": "4b5b82cf-0747-44e3-abef-3b7d881eb30f"
   },
   "source": [
    "One reason, why it is usefull to make such plots is that it may help to fill in missing values. Keep it in mind for the next part of this notebook"
   ]
  },
  {
   "cell_type": "markdown",
   "metadata": {
    "colab_type": "text",
    "deletable": false,
    "editable": false,
    "id": "e8go58wc8rkp",
    "nbgrader": {
     "cell_type": "markdown",
     "checksum": "5997c2e39abd0173a60791dbbcda8c2f",
     "grade": false,
     "grade_id": "cell-9ee4600e50832a6c",
     "locked": true,
     "schema_version": 3,
     "solution": false,
     "task": false
    }
   },
   "source": [
    "---\n",
    "## 1.3 working with missing values <a class=\"anchor\" id=\"na\"></a>\n",
    "<a class=\"anchor\" id=\"task10\"></a>\n",
    "**Task 10** [1 pts] Compute proportion of missing values in each column. Store the answer in the variable `prop_missing`.\n"
   ]
  },
  {
   "cell_type": "code",
   "execution_count": 26,
   "metadata": {
    "colab": {
     "base_uri": "https://localhost:8080/",
     "height": 246
    },
    "colab_type": "code",
    "deletable": false,
    "executionInfo": {
     "elapsed": 948,
     "status": "ok",
     "timestamp": 1588940619885,
     "user": {
      "displayName": "Anna Kuzina",
      "photoUrl": "https://lh3.googleusercontent.com/a-/AOh14GiemaXGZADupTQf2gOFyfVMKD8BYzFXipMt2krfaeg=s64",
      "userId": "14976976853760262600"
     },
     "user_tz": -180
    },
    "id": "LtQvp-FSp4hS",
    "nbgrader": {
     "cell_type": "code",
     "checksum": "012598cdb45d1808703fcf9fa60aeb3e",
     "grade": false,
     "grade_id": "cell-8c2846899255e3df",
     "locked": false,
     "schema_version": 3,
     "solution": true,
     "task": false
    },
    "outputId": "894e0742-a126-4244-8026-fae110172777"
   },
   "outputs": [],
   "source": [
    "prop_missing = titanic.isna().sum() / len(titanic)"
   ]
  },
  {
   "cell_type": "code",
   "execution_count": 27,
   "metadata": {
    "deletable": false,
    "editable": false,
    "nbgrader": {
     "cell_type": "code",
     "checksum": "3da38b4ea5d1d77ef53f38f9b0cffd01",
     "grade": true,
     "grade_id": "cell-65b3a6e89c523d51",
     "locked": true,
     "points": 1,
     "schema_version": 3,
     "solution": false,
     "task": false
    }
   },
   "outputs": [
    {
     "name": "stdout",
     "output_type": "stream",
     "text": [
      "Proportion of missing targets: 0.00\n",
      "Proportion of missing `Age` values: 0.20\n"
     ]
    }
   ],
   "source": [
    "# TEST\n",
    "print('Proportion of missing targets: {:.2f}'.format(prop_missing.Survived))\n",
    "print('Proportion of missing `Age` values: {:.2f}'.format(prop_missing.Age))\n"
   ]
  },
  {
   "cell_type": "markdown",
   "metadata": {
    "colab_type": "text",
    "deletable": false,
    "editable": false,
    "id": "k8n8kW9Z9iDm",
    "nbgrader": {
     "cell_type": "markdown",
     "checksum": "47d8c17ace448924e0fc7d743e34280d",
     "grade": false,
     "grade_id": "cell-6f1656159b2630d5",
     "locked": true,
     "schema_version": 3,
     "solution": false,
     "task": false
    }
   },
   "source": [
    "We have two columns with missing values. \n"
   ]
  },
  {
   "cell_type": "code",
   "execution_count": 28,
   "metadata": {},
   "outputs": [
    {
     "data": {
      "text/plain": [
       "array(['Age', 'Embarked'], dtype=object)"
      ]
     },
     "execution_count": 28,
     "metadata": {},
     "output_type": "execute_result"
    }
   ],
   "source": [
    "titanic.columns[prop_missing > 0].values"
   ]
  },
  {
   "cell_type": "markdown",
   "metadata": {
    "deletable": false,
    "editable": false,
    "nbgrader": {
     "cell_type": "markdown",
     "checksum": "cd811f279ed8717721ca028b77f8fcc6",
     "grade": false,
     "grade_id": "cell-93223e6e1beacebc",
     "locked": true,
     "schema_version": 3,
     "solution": false,
     "task": false
    }
   },
   "source": [
    "<a class=\"anchor\" id=\"task11\"></a>\n",
    "What can we do with that? Below you can find some options:\n",
    "- Fill all the NAs with the same value (mean, median, any other constant)\n",
    "- Fill NAs using grouping (e.g. we can fill missing in the variable `Fare` for male and female passengers separately using their average value)\n",
    "- Drop all the rows with missing values\n",
    "- Drop the whole column (e.g. if there are too many missing values)\n",
    "\n",
    "The most popular way is to use `SimpleImputer` from sklearn. If fills all the missing values with the same number. \n",
    "\n",
    "\n",
    "**Task 11** [2 pts] In this task we will implement a more sophisticated Imputer. `MeanGroupImputer`. We will make sure that it has proper sklearn interface, so that we can use it within our pipelines. Below you can find the skeleton code for the `MeanGroupImputer`. Please read it carefully to make sure you understand everythig. Your task is to write missing code for the method `transform`. \n"
   ]
  },
  {
   "cell_type": "code",
   "execution_count": 29,
   "metadata": {
    "deletable": false,
    "nbgrader": {
     "cell_type": "code",
     "checksum": "acbd41d1ff1122bb8f9a8722e07f1a36",
     "grade": false,
     "grade_id": "cell-5c83fb1c75d9bd6c",
     "locked": false,
     "schema_version": 3,
     "solution": true,
     "task": false
    }
   },
   "outputs": [],
   "source": [
    "from sklearn.base import BaseEstimator, TransformerMixin\n",
    "class MeanGroupImputer(BaseEstimator, TransformerMixin):\n",
    "    '''\n",
    "    Class used for imputing missing values in a pd.DataFrame using mean value within group\n",
    "    \n",
    "    Parameters\n",
    "    ----------    \n",
    "    group_cols : str\n",
    "        A column used to calculate the mean values\n",
    "    Returns\n",
    "    -------\n",
    "    X : array-like\n",
    "        The array with imputed values in the target column\n",
    "    '''\n",
    "    def __init__(self, group_col):\n",
    "        assert type(group_col) == str, 'group_col should be a string'\n",
    "\n",
    "        self.group_col = group_col\n",
    "    \n",
    "    def fit(self, X, y=None):\n",
    "        assert X[self.group_col].isna().sum() == 0, 'There are missing values in the group_col'\n",
    "        \n",
    "        # Group dataset by `group_col` and calculate mean value of all the other columns within this group\n",
    "        self.mapping = X.groupby(self.group_col).mean()\n",
    "        return self \n",
    "    \n",
    "    def transform(self, X, y=None):\n",
    "        X = X.copy()\n",
    "        # make sure that the imputer was fitted\n",
    "        assert self.mapping is not None\n",
    "        \n",
    "        # loop over all the groups\n",
    "        for index, row in self.mapping.iterrows():\n",
    "            \n",
    "            # Fill in missing values for the group `index` with the values `row`            \n",
    "            X.loc[X[self.group_col] == index, :] = X.loc[X[self.group_col] == index, :].fillna(row)\n",
    "        \n",
    "        # Then drop grouping column (we did not transform it, so it is not needed anymore)\n",
    "        X.drop(self.group_col, axis=1, inplace=True)\n",
    "        return X.values"
   ]
  },
  {
   "cell_type": "code",
   "execution_count": 30,
   "metadata": {
    "deletable": false,
    "editable": false,
    "nbgrader": {
     "cell_type": "code",
     "checksum": "9b17de29282cf7dc18d71274001ecc8c",
     "grade": true,
     "grade_id": "cell-da989463096f240f",
     "locked": true,
     "points": 2,
     "schema_version": 3,
     "solution": false,
     "task": false
    }
   },
   "outputs": [
    {
     "name": "stdout",
     "output_type": "stream",
     "text": [
      "  name  value  other_value\n",
      "0    A    1.0         10.0\n",
      "1    A    NaN          NaN\n",
      "2    B    2.0          NaN\n",
      "3    B    NaN         20.0\n",
      "4    B    3.0         30.0\n",
      "5    B    1.0         10.0\n",
      "6    C    3.0         30.0\n",
      "7    C    NaN          NaN\n",
      "8    C    5.0         30.0\n",
      "[[ 1. 10.]\n",
      " [ 1. 10.]\n",
      " [ 2. 20.]\n",
      " [ 2. 20.]\n",
      " [ 3. 30.]\n",
      " [ 1. 10.]\n",
      " [ 3. 30.]\n",
      " [ 4. 30.]\n",
      " [ 5. 30.]]\n"
     ]
    }
   ],
   "source": [
    "toy_dataset = pd.DataFrame({'name': ['A','A', 'B','B','B','B', 'C','C','C'],\n",
    "                            'value': [1, np.nan, 2, np.nan, 3, 1, 3, np.nan, 5],\n",
    "                            'other_value': [10, np.nan, np.nan, 20, 30, 10, 30, np.nan, 30]})\n",
    "print(toy_dataset)\n",
    "imp = MeanGroupImputer(group_col='name')\n",
    "output = imp.fit_transform(toy_dataset)\n",
    "print(output)\n",
    "\n",
    "# test that answers are correct for the toy dataset\n",
    "assert (output[:, 0] == np.array([1.0, 1.0, 2.0, 2.0, 3.0, 1.0, 3.0, 4.0, 5.0])).all()\n",
    "assert (output[:, 1] == np.array([10.0, 10.0, 20.0, 20.0, 30.0, 10.0, 30.0, 30.0, 30.0])).all()\n"
   ]
  },
  {
   "cell_type": "markdown",
   "metadata": {
    "deletable": false,
    "editable": false,
    "nbgrader": {
     "cell_type": "markdown",
     "checksum": "7dc3d3e50cd755737ffcdc663fc2bbe3",
     "grade": false,
     "grade_id": "cell-dce865a64f265a1c",
     "locked": true,
     "schema_version": 3,
     "solution": false,
     "task": false
    }
   },
   "source": [
    "## 1.4 Define column transformers <a class=\"anchor\" id=\"columns\"></a>\n",
    "\n",
    " <a class=\"anchor\" id=\"task12\"></a>\n",
    " **Task 12** [2 pts] In this task we will define columns transformer. Your task is to create three pipelines:\n",
    " - `age_pipe`: Pipeline to preprocess column `Age`. It uses `MeanGroupImputer` with the grouping variable `Title` to fill missing values in `Age` and then applies `StandardScaler`\n",
    " - `fare_pipe`: Pipeline to preprocess column `Fare`. It applies `StandardScaler` only\n",
    " - `categ_pipe`: Pipeline to preprocess all categorical variables. It uses `SimpleImputer` to impute missing values with the most frequent class and then applies `OneHotEncoder`\n"
   ]
  },
  {
   "cell_type": "code",
   "execution_count": 31,
   "metadata": {
    "deletable": false,
    "nbgrader": {
     "cell_type": "code",
     "checksum": "14969acf45eeeaeb5dbb323e812dc632",
     "grade": false,
     "grade_id": "cell-f79ada0c37790721",
     "locked": false,
     "schema_version": 3,
     "solution": true,
     "task": false
    }
   },
   "outputs": [],
   "source": [
    "from sklearn.impute import SimpleImputer\n",
    "from sklearn.compose import ColumnTransformer\n",
    "from sklearn.preprocessing import OneHotEncoder, StandardScaler\n",
    "from sklearn.pipeline import make_pipeline\n",
    "\n",
    "age_pipe = make_pipeline(\n",
    "    MeanGroupImputer(group_col='Title'),\n",
    "    StandardScaler()\n",
    ")\n",
    "\n",
    "fare_pipe = make_pipeline(\n",
    "    StandardScaler()\n",
    ")\n",
    "\n",
    "categ_pipe = make_pipeline(\n",
    "    SimpleImputer(strategy='most_frequent'),\n",
    "    OneHotEncoder(sparse_output=True, handle_unknown='ignore')\n",
    ")\n",
    "\n",
    "\n",
    "# Combine all three pipelines in one column transformer\n",
    "column_transformer = ColumnTransformer([\n",
    " ('age', age_pipe, ['Age', 'Title']),\n",
    " ('fare', fare_pipe, ['Fare']),\n",
    " ('all_categ', categ_pipe, categ_columns)],\n",
    "remainder='passthrough'\n",
    ")"
   ]
  },
  {
   "cell_type": "code",
   "execution_count": 33,
   "metadata": {},
   "outputs": [
    {
     "data": {
      "text/plain": [
       "Survived          0\n",
       "Pclass            0\n",
       "Sex               0\n",
       "Age             177\n",
       "Fare              0\n",
       "Embarked          2\n",
       "Title             0\n",
       "FamilySize_1      0\n",
       "FamilySize_2      0\n",
       "FamilySize_3      0\n",
       "dtype: int64"
      ]
     },
     "execution_count": 33,
     "metadata": {},
     "output_type": "execute_result"
    }
   ],
   "source": [
    "titanic.isna().sum()"
   ]
  },
  {
   "cell_type": "markdown",
   "metadata": {
    "deletable": false,
    "editable": false,
    "nbgrader": {
     "cell_type": "markdown",
     "checksum": "a93e375f0a53ff73f96f3559ce7fea7f",
     "grade": false,
     "grade_id": "cell-78fe5935f758ff1e",
     "locked": true,
     "schema_version": 3,
     "solution": false,
     "task": false
    }
   },
   "source": [
    "## 1.5 Train/test split <a class=\"anchor\" id=\"train_test\"></a>"
   ]
  },
  {
   "cell_type": "code",
   "execution_count": 34,
   "metadata": {
    "deletable": false,
    "editable": false,
    "nbgrader": {
     "cell_type": "code",
     "checksum": "78ee290189bbf6fd4435796185f87353",
     "grade": false,
     "grade_id": "cell-d50c1c521723f6e9",
     "locked": true,
     "schema_version": 3,
     "solution": false,
     "task": false
    }
   },
   "outputs": [],
   "source": [
    "from sklearn.model_selection import train_test_split\n",
    "\n",
    "tr, te = train_test_split(titanic, test_size=0.1, random_state=42)\n",
    "\n",
    "y_train = tr.Survived\n",
    "y_test = te.Survived\n",
    "X_train = tr.drop(['Survived'], axis=1)\n",
    "X_test = te.drop(['Survived'], axis=1)"
   ]
  },
  {
   "cell_type": "markdown",
   "metadata": {
    "deletable": false,
    "editable": false,
    "nbgrader": {
     "cell_type": "markdown",
     "checksum": "9777bb200370b3e7acdfdf9535bf3b95",
     "grade": false,
     "grade_id": "cell-0a85e95d85f3491e",
     "locked": true,
     "schema_version": 3,
     "solution": false,
     "task": false
    }
   },
   "source": [
    "# 2. Logistic Regression and Support Vector Machine <a class=\"anchor\" id=\"part2\"></a>\n",
    "\n",
    "\n",
    "## 2.1 Fit Logistic Regression\n",
    "\n",
    " <a class=\"anchor\" id=\"task13\"></a>\n",
    "**Task 13** [1 pt] Define the `log_reg_pipe` - pipeline which applies `column_transformer` and fits logistic regression with the the hyperparameter `penalty='none'` (by default sklearn applies L2 regularization). Calculate the 5-fold cross-validation score (use `accuracy` as a scoring function). Save the result (average accuracy on cross-validation) in the variable `log_reg_score`."
   ]
  },
  {
   "cell_type": "code",
   "execution_count": 35,
   "metadata": {
    "deletable": false,
    "nbgrader": {
     "cell_type": "code",
     "checksum": "c5ba77989727586840284a959bcbad4f",
     "grade": false,
     "grade_id": "cell-8bb06ad3b7e9aa39",
     "locked": false,
     "schema_version": 3,
     "solution": true,
     "task": false
    }
   },
   "outputs": [
    {
     "name": "stderr",
     "output_type": "stream",
     "text": [
      "/Applications/anaconda3/lib/python3.9/site-packages/sklearn/linear_model/_logistic.py:1183: FutureWarning: `penalty='none'`has been deprecated in 1.2 and will be removed in 1.4. To keep the past behaviour, set `penalty=None`.\n",
      "  warnings.warn(\n",
      "/Applications/anaconda3/lib/python3.9/site-packages/sklearn/linear_model/_logistic.py:460: ConvergenceWarning: lbfgs failed to converge (status=1):\n",
      "STOP: TOTAL NO. of ITERATIONS REACHED LIMIT.\n",
      "\n",
      "Increase the number of iterations (max_iter) or scale the data as shown in:\n",
      "    https://scikit-learn.org/stable/modules/preprocessing.html\n",
      "Please also refer to the documentation for alternative solver options:\n",
      "    https://scikit-learn.org/stable/modules/linear_model.html#logistic-regression\n",
      "  n_iter_i = _check_optimize_result(\n",
      "/Applications/anaconda3/lib/python3.9/site-packages/sklearn/linear_model/_logistic.py:1183: FutureWarning: `penalty='none'`has been deprecated in 1.2 and will be removed in 1.4. To keep the past behaviour, set `penalty=None`.\n",
      "  warnings.warn(\n",
      "/Applications/anaconda3/lib/python3.9/site-packages/sklearn/linear_model/_logistic.py:460: ConvergenceWarning: lbfgs failed to converge (status=1):\n",
      "STOP: TOTAL NO. of ITERATIONS REACHED LIMIT.\n",
      "\n",
      "Increase the number of iterations (max_iter) or scale the data as shown in:\n",
      "    https://scikit-learn.org/stable/modules/preprocessing.html\n",
      "Please also refer to the documentation for alternative solver options:\n",
      "    https://scikit-learn.org/stable/modules/linear_model.html#logistic-regression\n",
      "  n_iter_i = _check_optimize_result(\n",
      "/Applications/anaconda3/lib/python3.9/site-packages/sklearn/linear_model/_logistic.py:1183: FutureWarning: `penalty='none'`has been deprecated in 1.2 and will be removed in 1.4. To keep the past behaviour, set `penalty=None`.\n",
      "  warnings.warn(\n",
      "/Applications/anaconda3/lib/python3.9/site-packages/sklearn/linear_model/_logistic.py:460: ConvergenceWarning: lbfgs failed to converge (status=1):\n",
      "STOP: TOTAL NO. of ITERATIONS REACHED LIMIT.\n",
      "\n",
      "Increase the number of iterations (max_iter) or scale the data as shown in:\n",
      "    https://scikit-learn.org/stable/modules/preprocessing.html\n",
      "Please also refer to the documentation for alternative solver options:\n",
      "    https://scikit-learn.org/stable/modules/linear_model.html#logistic-regression\n",
      "  n_iter_i = _check_optimize_result(\n",
      "/Applications/anaconda3/lib/python3.9/site-packages/sklearn/linear_model/_logistic.py:1183: FutureWarning: `penalty='none'`has been deprecated in 1.2 and will be removed in 1.4. To keep the past behaviour, set `penalty=None`.\n",
      "  warnings.warn(\n",
      "/Applications/anaconda3/lib/python3.9/site-packages/sklearn/linear_model/_logistic.py:460: ConvergenceWarning: lbfgs failed to converge (status=1):\n",
      "STOP: TOTAL NO. of ITERATIONS REACHED LIMIT.\n",
      "\n",
      "Increase the number of iterations (max_iter) or scale the data as shown in:\n",
      "    https://scikit-learn.org/stable/modules/preprocessing.html\n",
      "Please also refer to the documentation for alternative solver options:\n",
      "    https://scikit-learn.org/stable/modules/linear_model.html#logistic-regression\n",
      "  n_iter_i = _check_optimize_result(\n",
      "/Applications/anaconda3/lib/python3.9/site-packages/sklearn/linear_model/_logistic.py:1183: FutureWarning: `penalty='none'`has been deprecated in 1.2 and will be removed in 1.4. To keep the past behaviour, set `penalty=None`.\n",
      "  warnings.warn(\n",
      "/Applications/anaconda3/lib/python3.9/site-packages/sklearn/linear_model/_logistic.py:460: ConvergenceWarning: lbfgs failed to converge (status=1):\n",
      "STOP: TOTAL NO. of ITERATIONS REACHED LIMIT.\n",
      "\n",
      "Increase the number of iterations (max_iter) or scale the data as shown in:\n",
      "    https://scikit-learn.org/stable/modules/preprocessing.html\n",
      "Please also refer to the documentation for alternative solver options:\n",
      "    https://scikit-learn.org/stable/modules/linear_model.html#logistic-regression\n",
      "  n_iter_i = _check_optimize_result(\n"
     ]
    }
   ],
   "source": [
    "from sklearn.pipeline import Pipeline\n",
    "from sklearn.linear_model import LogisticRegression\n",
    "from sklearn.model_selection import cross_val_score\n",
    "\n",
    "log_reg_pipe = Pipeline([\n",
    "    ('column_transformer', column_transformer),\n",
    "    ('log_reg', LogisticRegression(penalty='none'))\n",
    "])\n",
    "\n",
    "log_reg_score = cross_val_score(log_reg_pipe, X_train, y_train, cv=5, scoring='accuracy')"
   ]
  },
  {
   "cell_type": "code",
   "execution_count": 37,
   "metadata": {
    "deletable": false,
    "editable": false,
    "nbgrader": {
     "cell_type": "code",
     "checksum": "63a067cef3db736053ab57d87abe49da",
     "grade": true,
     "grade_id": "cell-d6e870a4329947b6",
     "locked": true,
     "points": 1,
     "schema_version": 3,
     "solution": false,
     "task": false
    }
   },
   "outputs": [
    {
     "name": "stdout",
     "output_type": "stream",
     "text": [
      "[0.8136646 0.7875    0.875     0.8       0.84375  ]\n"
     ]
    },
    {
     "name": "stderr",
     "output_type": "stream",
     "text": [
      "/Applications/anaconda3/lib/python3.9/site-packages/sklearn/linear_model/_logistic.py:1183: FutureWarning: `penalty='none'`has been deprecated in 1.2 and will be removed in 1.4. To keep the past behaviour, set `penalty=None`.\n",
      "  warnings.warn(\n",
      "/Applications/anaconda3/lib/python3.9/site-packages/sklearn/linear_model/_logistic.py:460: ConvergenceWarning: lbfgs failed to converge (status=1):\n",
      "STOP: TOTAL NO. of ITERATIONS REACHED LIMIT.\n",
      "\n",
      "Increase the number of iterations (max_iter) or scale the data as shown in:\n",
      "    https://scikit-learn.org/stable/modules/preprocessing.html\n",
      "Please also refer to the documentation for alternative solver options:\n",
      "    https://scikit-learn.org/stable/modules/linear_model.html#logistic-regression\n",
      "  n_iter_i = _check_optimize_result(\n",
      "/Applications/anaconda3/lib/python3.9/site-packages/sklearn/linear_model/_logistic.py:1183: FutureWarning: `penalty='none'`has been deprecated in 1.2 and will be removed in 1.4. To keep the past behaviour, set `penalty=None`.\n",
      "  warnings.warn(\n",
      "/Applications/anaconda3/lib/python3.9/site-packages/sklearn/linear_model/_logistic.py:460: ConvergenceWarning: lbfgs failed to converge (status=1):\n",
      "STOP: TOTAL NO. of ITERATIONS REACHED LIMIT.\n",
      "\n",
      "Increase the number of iterations (max_iter) or scale the data as shown in:\n",
      "    https://scikit-learn.org/stable/modules/preprocessing.html\n",
      "Please also refer to the documentation for alternative solver options:\n",
      "    https://scikit-learn.org/stable/modules/linear_model.html#logistic-regression\n",
      "  n_iter_i = _check_optimize_result(\n",
      "/Applications/anaconda3/lib/python3.9/site-packages/sklearn/linear_model/_logistic.py:1183: FutureWarning: `penalty='none'`has been deprecated in 1.2 and will be removed in 1.4. To keep the past behaviour, set `penalty=None`.\n",
      "  warnings.warn(\n",
      "/Applications/anaconda3/lib/python3.9/site-packages/sklearn/linear_model/_logistic.py:460: ConvergenceWarning: lbfgs failed to converge (status=1):\n",
      "STOP: TOTAL NO. of ITERATIONS REACHED LIMIT.\n",
      "\n",
      "Increase the number of iterations (max_iter) or scale the data as shown in:\n",
      "    https://scikit-learn.org/stable/modules/preprocessing.html\n",
      "Please also refer to the documentation for alternative solver options:\n",
      "    https://scikit-learn.org/stable/modules/linear_model.html#logistic-regression\n",
      "  n_iter_i = _check_optimize_result(\n",
      "/Applications/anaconda3/lib/python3.9/site-packages/sklearn/linear_model/_logistic.py:1183: FutureWarning: `penalty='none'`has been deprecated in 1.2 and will be removed in 1.4. To keep the past behaviour, set `penalty=None`.\n",
      "  warnings.warn(\n",
      "/Applications/anaconda3/lib/python3.9/site-packages/sklearn/linear_model/_logistic.py:460: ConvergenceWarning: lbfgs failed to converge (status=1):\n",
      "STOP: TOTAL NO. of ITERATIONS REACHED LIMIT.\n",
      "\n",
      "Increase the number of iterations (max_iter) or scale the data as shown in:\n",
      "    https://scikit-learn.org/stable/modules/preprocessing.html\n",
      "Please also refer to the documentation for alternative solver options:\n",
      "    https://scikit-learn.org/stable/modules/linear_model.html#logistic-regression\n",
      "  n_iter_i = _check_optimize_result(\n",
      "/Applications/anaconda3/lib/python3.9/site-packages/sklearn/linear_model/_logistic.py:1183: FutureWarning: `penalty='none'`has been deprecated in 1.2 and will be removed in 1.4. To keep the past behaviour, set `penalty=None`.\n",
      "  warnings.warn(\n",
      "/Applications/anaconda3/lib/python3.9/site-packages/sklearn/linear_model/_logistic.py:460: ConvergenceWarning: lbfgs failed to converge (status=1):\n",
      "STOP: TOTAL NO. of ITERATIONS REACHED LIMIT.\n",
      "\n",
      "Increase the number of iterations (max_iter) or scale the data as shown in:\n",
      "    https://scikit-learn.org/stable/modules/preprocessing.html\n",
      "Please also refer to the documentation for alternative solver options:\n",
      "    https://scikit-learn.org/stable/modules/linear_model.html#logistic-regression\n",
      "  n_iter_i = _check_optimize_result(\n"
     ]
    }
   ],
   "source": [
    "print(log_reg_score)\n"
   ]
  },
  {
   "cell_type": "markdown",
   "metadata": {
    "deletable": false,
    "editable": false,
    "nbgrader": {
     "cell_type": "markdown",
     "checksum": "d7b75739a8ab45a4ce506e58c2c3a097",
     "grade": false,
     "grade_id": "cell-6a5de7b77d2d21f5",
     "locked": true,
     "schema_version": 3,
     "solution": false,
     "task": false
    }
   },
   "source": [
    "## 2.2 Fit Support Vector Machine\n",
    "\n",
    " <a class=\"anchor\" id=\"task14\"></a>\n",
    "**Task 14** [1 pt] Define the `svm_pipe` - pipeline which applies `column_transformer` and fits Support Vector Machine model (it is imported for you below) using the hyperparameter `kernel='linear'`. Calculate the 5-fold cross-validation score (use `accuracy` as a scoring function). Save the result (average accuracy on cross-validation) in the variable `svm_score`."
   ]
  },
  {
   "cell_type": "code",
   "execution_count": 175,
   "metadata": {
    "deletable": false,
    "nbgrader": {
     "cell_type": "code",
     "checksum": "e64e585a042c4350e4635ea042c88d69",
     "grade": false,
     "grade_id": "cell-e49424107e9226cb",
     "locked": false,
     "schema_version": 3,
     "solution": true,
     "task": false
    }
   },
   "outputs": [],
   "source": [
    "from sklearn.svm import SVC\n",
    "\n",
    "svm_pipe = Pipeline([\n",
    "    ('col_transofmer', column_transformer),\n",
    "    ('svc', SVC(kernel='linear'))\n",
    "])\n",
    "\n",
    "svm_score = cross_val_score(svm_pipe, X_train, y_train, cv=5, scoring='accuracy')"
   ]
  },
  {
   "cell_type": "code",
   "execution_count": 176,
   "metadata": {
    "deletable": false,
    "editable": false,
    "nbgrader": {
     "cell_type": "code",
     "checksum": "461e57fc0417ee154ca52e5d7e00d301",
     "grade": true,
     "grade_id": "cell-86e3112caf998f12",
     "locked": true,
     "points": 1,
     "schema_version": 3,
     "solution": false,
     "task": false
    }
   },
   "outputs": [
    {
     "name": "stdout",
     "output_type": "stream",
     "text": [
      "[0.82608696 0.775      0.86875    0.78125    0.8375    ]\n"
     ]
    }
   ],
   "source": [
    "print(svm_score)\n"
   ]
  },
  {
   "cell_type": "markdown",
   "metadata": {
    "deletable": false,
    "editable": false,
    "nbgrader": {
     "cell_type": "markdown",
     "checksum": "3bc68c7faf75fae7173a6be90802235f",
     "grade": false,
     "grade_id": "cell-e77c243f4e58c126",
     "locked": true,
     "schema_version": 3,
     "solution": false,
     "task": false
    }
   },
   "source": [
    "## 2.3 Compare different models\n",
    "\n",
    " <a class=\"anchor\" id=\"task15\"></a>\n",
    "**Task 15** [2 pts] In this task you are supposed to use grid search to find the best classifier for the given dataset. Use `GridSearchCV` class from sklearn. Use 5-Fold cross validation with accuracy as a scoring metric.\n",
    "\n",
    "*Hints*. Read documentation to see, which hyperparameters `LogisticRegression` and `SVC` have. Pay attention to `kernel` in the SVM model and the regularization coefficient `C` for both LogisticRegression and SVC, try different penalties for `LogisticRegression`. Explore other hyperparameters as well. Your task is to simply get the best accuracy posibe. The minimum passing value will be 0.84 (average score on cross-validaition)\n",
    "\n",
    "Please, do not use models other that `SVC` or `LogisticRegression`."
   ]
  },
  {
   "cell_type": "code",
   "execution_count": 177,
   "metadata": {},
   "outputs": [
    {
     "name": "stdout",
     "output_type": "stream",
     "text": [
      "Fitting 5 folds for each of 1 candidates, totalling 5 fits\n"
     ]
    },
    {
     "name": "stdout",
     "output_type": "stream",
     "text": [
      "[CV 2/5] END svc__C=100, svc__gamma=0.01, svc__kernel=rbf;, score=0.787 total time=   0.1s\n",
      "[CV 1/5] END svc__C=100, svc__gamma=0.01, svc__kernel=rbf;, score=0.832 total time=   0.1s\n",
      "[CV 4/5] END svc__C=100, svc__gamma=0.01, svc__kernel=rbf;, score=0.794 total time=   0.1s\n",
      "[CV 3/5] END svc__C=100, svc__gamma=0.01, svc__kernel=rbf;, score=0.881 total time=   0.1s\n",
      "[CV 5/5] END svc__C=100, svc__gamma=0.01, svc__kernel=rbf;, score=0.838 total time=   0.1s\n"
     ]
    },
    {
     "name": "stderr",
     "output_type": "stream",
     "text": [
      "/Applications/anaconda3/lib/python3.9/site-packages/sklearn/preprocessing/_encoders.py:975: FutureWarning: `sparse` was renamed to `sparse_output` in version 1.2 and will be removed in 1.4. `sparse_output` is ignored unless you leave `sparse` to its default value.\n",
      "  warnings.warn(\n",
      "/Applications/anaconda3/lib/python3.9/site-packages/sklearn/preprocessing/_encoders.py:975: FutureWarning: `sparse` was renamed to `sparse_output` in version 1.2 and will be removed in 1.4. `sparse_output` is ignored unless you leave `sparse` to its default value.\n",
      "  warnings.warn(\n",
      "/Applications/anaconda3/lib/python3.9/site-packages/sklearn/preprocessing/_encoders.py:975: FutureWarning: `sparse` was renamed to `sparse_output` in version 1.2 and will be removed in 1.4. `sparse_output` is ignored unless you leave `sparse` to its default value.\n",
      "  warnings.warn(\n",
      "/Applications/anaconda3/lib/python3.9/site-packages/sklearn/preprocessing/_encoders.py:975: FutureWarning: `sparse` was renamed to `sparse_output` in version 1.2 and will be removed in 1.4. `sparse_output` is ignored unless you leave `sparse` to its default value.\n",
      "  warnings.warn(\n",
      "/Applications/anaconda3/lib/python3.9/site-packages/sklearn/preprocessing/_encoders.py:975: FutureWarning: `sparse` was renamed to `sparse_output` in version 1.2 and will be removed in 1.4. `sparse_output` is ignored unless you leave `sparse` to its default value.\n",
      "  warnings.warn(\n"
     ]
    },
    {
     "data": {
      "text/html": [
       "<style>#sk-container-id-20 {color: black;}#sk-container-id-20 pre{padding: 0;}#sk-container-id-20 div.sk-toggleable {background-color: white;}#sk-container-id-20 label.sk-toggleable__label {cursor: pointer;display: block;width: 100%;margin-bottom: 0;padding: 0.3em;box-sizing: border-box;text-align: center;}#sk-container-id-20 label.sk-toggleable__label-arrow:before {content: \"▸\";float: left;margin-right: 0.25em;color: #696969;}#sk-container-id-20 label.sk-toggleable__label-arrow:hover:before {color: black;}#sk-container-id-20 div.sk-estimator:hover label.sk-toggleable__label-arrow:before {color: black;}#sk-container-id-20 div.sk-toggleable__content {max-height: 0;max-width: 0;overflow: hidden;text-align: left;background-color: #f0f8ff;}#sk-container-id-20 div.sk-toggleable__content pre {margin: 0.2em;color: black;border-radius: 0.25em;background-color: #f0f8ff;}#sk-container-id-20 input.sk-toggleable__control:checked~div.sk-toggleable__content {max-height: 200px;max-width: 100%;overflow: auto;}#sk-container-id-20 input.sk-toggleable__control:checked~label.sk-toggleable__label-arrow:before {content: \"▾\";}#sk-container-id-20 div.sk-estimator input.sk-toggleable__control:checked~label.sk-toggleable__label {background-color: #d4ebff;}#sk-container-id-20 div.sk-label input.sk-toggleable__control:checked~label.sk-toggleable__label {background-color: #d4ebff;}#sk-container-id-20 input.sk-hidden--visually {border: 0;clip: rect(1px 1px 1px 1px);clip: rect(1px, 1px, 1px, 1px);height: 1px;margin: -1px;overflow: hidden;padding: 0;position: absolute;width: 1px;}#sk-container-id-20 div.sk-estimator {font-family: monospace;background-color: #f0f8ff;border: 1px dotted black;border-radius: 0.25em;box-sizing: border-box;margin-bottom: 0.5em;}#sk-container-id-20 div.sk-estimator:hover {background-color: #d4ebff;}#sk-container-id-20 div.sk-parallel-item::after {content: \"\";width: 100%;border-bottom: 1px solid gray;flex-grow: 1;}#sk-container-id-20 div.sk-label:hover label.sk-toggleable__label {background-color: #d4ebff;}#sk-container-id-20 div.sk-serial::before {content: \"\";position: absolute;border-left: 1px solid gray;box-sizing: border-box;top: 0;bottom: 0;left: 50%;z-index: 0;}#sk-container-id-20 div.sk-serial {display: flex;flex-direction: column;align-items: center;background-color: white;padding-right: 0.2em;padding-left: 0.2em;position: relative;}#sk-container-id-20 div.sk-item {position: relative;z-index: 1;}#sk-container-id-20 div.sk-parallel {display: flex;align-items: stretch;justify-content: center;background-color: white;position: relative;}#sk-container-id-20 div.sk-item::before, #sk-container-id-20 div.sk-parallel-item::before {content: \"\";position: absolute;border-left: 1px solid gray;box-sizing: border-box;top: 0;bottom: 0;left: 50%;z-index: -1;}#sk-container-id-20 div.sk-parallel-item {display: flex;flex-direction: column;z-index: 1;position: relative;background-color: white;}#sk-container-id-20 div.sk-parallel-item:first-child::after {align-self: flex-end;width: 50%;}#sk-container-id-20 div.sk-parallel-item:last-child::after {align-self: flex-start;width: 50%;}#sk-container-id-20 div.sk-parallel-item:only-child::after {width: 0;}#sk-container-id-20 div.sk-dashed-wrapped {border: 1px dashed gray;margin: 0 0.4em 0.5em 0.4em;box-sizing: border-box;padding-bottom: 0.4em;background-color: white;}#sk-container-id-20 div.sk-label label {font-family: monospace;font-weight: bold;display: inline-block;line-height: 1.2em;}#sk-container-id-20 div.sk-label-container {text-align: center;}#sk-container-id-20 div.sk-container {/* jupyter's `normalize.less` sets `[hidden] { display: none; }` but bootstrap.min.css set `[hidden] { display: none !important; }` so we also need the `!important` here to be able to override the default hidden behavior on the sphinx rendered scikit-learn.org. See: https://github.com/scikit-learn/scikit-learn/issues/21755 */display: inline-block !important;position: relative;}#sk-container-id-20 div.sk-text-repr-fallback {display: none;}</style><div id=\"sk-container-id-20\" class=\"sk-top-container\"><div class=\"sk-text-repr-fallback\"><pre>GridSearchCV(cv=5,\n",
       "             estimator=Pipeline(steps=[(&#x27;col_transofmer&#x27;,\n",
       "                                        ColumnTransformer(remainder=&#x27;passthrough&#x27;,\n",
       "                                                          transformers=[(&#x27;age&#x27;,\n",
       "                                                                         Pipeline(steps=[(&#x27;meangroupimputer&#x27;,\n",
       "                                                                                          MeanGroupImputer(group_col=&#x27;Title&#x27;)),\n",
       "                                                                                         (&#x27;standardscaler&#x27;,\n",
       "                                                                                          StandardScaler())]),\n",
       "                                                                         [&#x27;Age&#x27;,\n",
       "                                                                          &#x27;Title&#x27;]),\n",
       "                                                                        (&#x27;fare&#x27;,\n",
       "                                                                         Pipeline(steps=[(&#x27;standardscaler&#x27;,\n",
       "                                                                                          StandardScaler())]),\n",
       "                                                                         [&#x27;Fare&#x27;]),\n",
       "                                                                        (&#x27;all_categ&#x27;,\n",
       "                                                                         Pipeline(steps=[(&#x27;simpleimputer&#x27;,\n",
       "                                                                                          SimpleImputer(strategy=&#x27;most_frequent&#x27;)),\n",
       "                                                                                         (&#x27;onehotencoder&#x27;,\n",
       "                                                                                          OneHotEncoder(handle_unknown=&#x27;ignore&#x27;,\n",
       "                                                                                                        sparse=True))]),\n",
       "                                                                         [&#x27;Sex&#x27;,\n",
       "                                                                          &#x27;Embarked&#x27;,\n",
       "                                                                          &#x27;Title&#x27;])])),\n",
       "                                       (&#x27;svc&#x27;, SVC())]),\n",
       "             n_jobs=-1,\n",
       "             param_grid={&#x27;svc__C&#x27;: [100], &#x27;svc__gamma&#x27;: [0.01],\n",
       "                         &#x27;svc__kernel&#x27;: [&#x27;rbf&#x27;]},\n",
       "             scoring=&#x27;accuracy&#x27;, verbose=3)</pre><b>In a Jupyter environment, please rerun this cell to show the HTML representation or trust the notebook. <br />On GitHub, the HTML representation is unable to render, please try loading this page with nbviewer.org.</b></div><div class=\"sk-container\" hidden><div class=\"sk-item sk-dashed-wrapped\"><div class=\"sk-label-container\"><div class=\"sk-label sk-toggleable\"><input class=\"sk-toggleable__control sk-hidden--visually\" id=\"sk-estimator-id-267\" type=\"checkbox\" ><label for=\"sk-estimator-id-267\" class=\"sk-toggleable__label sk-toggleable__label-arrow\">GridSearchCV</label><div class=\"sk-toggleable__content\"><pre>GridSearchCV(cv=5,\n",
       "             estimator=Pipeline(steps=[(&#x27;col_transofmer&#x27;,\n",
       "                                        ColumnTransformer(remainder=&#x27;passthrough&#x27;,\n",
       "                                                          transformers=[(&#x27;age&#x27;,\n",
       "                                                                         Pipeline(steps=[(&#x27;meangroupimputer&#x27;,\n",
       "                                                                                          MeanGroupImputer(group_col=&#x27;Title&#x27;)),\n",
       "                                                                                         (&#x27;standardscaler&#x27;,\n",
       "                                                                                          StandardScaler())]),\n",
       "                                                                         [&#x27;Age&#x27;,\n",
       "                                                                          &#x27;Title&#x27;]),\n",
       "                                                                        (&#x27;fare&#x27;,\n",
       "                                                                         Pipeline(steps=[(&#x27;standardscaler&#x27;,\n",
       "                                                                                          StandardScaler())]),\n",
       "                                                                         [&#x27;Fare&#x27;]),\n",
       "                                                                        (&#x27;all_categ&#x27;,\n",
       "                                                                         Pipeline(steps=[(&#x27;simpleimputer&#x27;,\n",
       "                                                                                          SimpleImputer(strategy=&#x27;most_frequent&#x27;)),\n",
       "                                                                                         (&#x27;onehotencoder&#x27;,\n",
       "                                                                                          OneHotEncoder(handle_unknown=&#x27;ignore&#x27;,\n",
       "                                                                                                        sparse=True))]),\n",
       "                                                                         [&#x27;Sex&#x27;,\n",
       "                                                                          &#x27;Embarked&#x27;,\n",
       "                                                                          &#x27;Title&#x27;])])),\n",
       "                                       (&#x27;svc&#x27;, SVC())]),\n",
       "             n_jobs=-1,\n",
       "             param_grid={&#x27;svc__C&#x27;: [100], &#x27;svc__gamma&#x27;: [0.01],\n",
       "                         &#x27;svc__kernel&#x27;: [&#x27;rbf&#x27;]},\n",
       "             scoring=&#x27;accuracy&#x27;, verbose=3)</pre></div></div></div><div class=\"sk-parallel\"><div class=\"sk-parallel-item\"><div class=\"sk-item\"><div class=\"sk-label-container\"><div class=\"sk-label sk-toggleable\"><input class=\"sk-toggleable__control sk-hidden--visually\" id=\"sk-estimator-id-268\" type=\"checkbox\" ><label for=\"sk-estimator-id-268\" class=\"sk-toggleable__label sk-toggleable__label-arrow\">estimator: Pipeline</label><div class=\"sk-toggleable__content\"><pre>Pipeline(steps=[(&#x27;col_transofmer&#x27;,\n",
       "                 ColumnTransformer(remainder=&#x27;passthrough&#x27;,\n",
       "                                   transformers=[(&#x27;age&#x27;,\n",
       "                                                  Pipeline(steps=[(&#x27;meangroupimputer&#x27;,\n",
       "                                                                   MeanGroupImputer(group_col=&#x27;Title&#x27;)),\n",
       "                                                                  (&#x27;standardscaler&#x27;,\n",
       "                                                                   StandardScaler())]),\n",
       "                                                  [&#x27;Age&#x27;, &#x27;Title&#x27;]),\n",
       "                                                 (&#x27;fare&#x27;,\n",
       "                                                  Pipeline(steps=[(&#x27;standardscaler&#x27;,\n",
       "                                                                   StandardScaler())]),\n",
       "                                                  [&#x27;Fare&#x27;]),\n",
       "                                                 (&#x27;all_categ&#x27;,\n",
       "                                                  Pipeline(steps=[(&#x27;simpleimputer&#x27;,\n",
       "                                                                   SimpleImputer(strategy=&#x27;most_frequent&#x27;)),\n",
       "                                                                  (&#x27;onehotencoder&#x27;,\n",
       "                                                                   OneHotEncoder(handle_unknown=&#x27;ignore&#x27;,\n",
       "                                                                                 sparse=True))]),\n",
       "                                                  [&#x27;Sex&#x27;, &#x27;Embarked&#x27;,\n",
       "                                                   &#x27;Title&#x27;])])),\n",
       "                (&#x27;svc&#x27;, SVC())])</pre></div></div></div><div class=\"sk-serial\"><div class=\"sk-item\"><div class=\"sk-serial\"><div class=\"sk-item sk-dashed-wrapped\"><div class=\"sk-label-container\"><div class=\"sk-label sk-toggleable\"><input class=\"sk-toggleable__control sk-hidden--visually\" id=\"sk-estimator-id-269\" type=\"checkbox\" ><label for=\"sk-estimator-id-269\" class=\"sk-toggleable__label sk-toggleable__label-arrow\">col_transofmer: ColumnTransformer</label><div class=\"sk-toggleable__content\"><pre>ColumnTransformer(remainder=&#x27;passthrough&#x27;,\n",
       "                  transformers=[(&#x27;age&#x27;,\n",
       "                                 Pipeline(steps=[(&#x27;meangroupimputer&#x27;,\n",
       "                                                  MeanGroupImputer(group_col=&#x27;Title&#x27;)),\n",
       "                                                 (&#x27;standardscaler&#x27;,\n",
       "                                                  StandardScaler())]),\n",
       "                                 [&#x27;Age&#x27;, &#x27;Title&#x27;]),\n",
       "                                (&#x27;fare&#x27;,\n",
       "                                 Pipeline(steps=[(&#x27;standardscaler&#x27;,\n",
       "                                                  StandardScaler())]),\n",
       "                                 [&#x27;Fare&#x27;]),\n",
       "                                (&#x27;all_categ&#x27;,\n",
       "                                 Pipeline(steps=[(&#x27;simpleimputer&#x27;,\n",
       "                                                  SimpleImputer(strategy=&#x27;most_frequent&#x27;)),\n",
       "                                                 (&#x27;onehotencoder&#x27;,\n",
       "                                                  OneHotEncoder(handle_unknown=&#x27;ignore&#x27;,\n",
       "                                                                sparse=True))]),\n",
       "                                 [&#x27;Sex&#x27;, &#x27;Embarked&#x27;, &#x27;Title&#x27;])])</pre></div></div></div><div class=\"sk-parallel\"><div class=\"sk-parallel-item\"><div class=\"sk-item\"><div class=\"sk-label-container\"><div class=\"sk-label sk-toggleable\"><input class=\"sk-toggleable__control sk-hidden--visually\" id=\"sk-estimator-id-270\" type=\"checkbox\" ><label for=\"sk-estimator-id-270\" class=\"sk-toggleable__label sk-toggleable__label-arrow\">age</label><div class=\"sk-toggleable__content\"><pre>[&#x27;Age&#x27;, &#x27;Title&#x27;]</pre></div></div></div><div class=\"sk-serial\"><div class=\"sk-item\"><div class=\"sk-serial\"><div class=\"sk-item\"><div class=\"sk-estimator sk-toggleable\"><input class=\"sk-toggleable__control sk-hidden--visually\" id=\"sk-estimator-id-271\" type=\"checkbox\" ><label for=\"sk-estimator-id-271\" class=\"sk-toggleable__label sk-toggleable__label-arrow\">MeanGroupImputer</label><div class=\"sk-toggleable__content\"><pre>MeanGroupImputer(group_col=&#x27;Title&#x27;)</pre></div></div></div><div class=\"sk-item\"><div class=\"sk-estimator sk-toggleable\"><input class=\"sk-toggleable__control sk-hidden--visually\" id=\"sk-estimator-id-272\" type=\"checkbox\" ><label for=\"sk-estimator-id-272\" class=\"sk-toggleable__label sk-toggleable__label-arrow\">StandardScaler</label><div class=\"sk-toggleable__content\"><pre>StandardScaler()</pre></div></div></div></div></div></div></div></div><div class=\"sk-parallel-item\"><div class=\"sk-item\"><div class=\"sk-label-container\"><div class=\"sk-label sk-toggleable\"><input class=\"sk-toggleable__control sk-hidden--visually\" id=\"sk-estimator-id-273\" type=\"checkbox\" ><label for=\"sk-estimator-id-273\" class=\"sk-toggleable__label sk-toggleable__label-arrow\">fare</label><div class=\"sk-toggleable__content\"><pre>[&#x27;Fare&#x27;]</pre></div></div></div><div class=\"sk-serial\"><div class=\"sk-item\"><div class=\"sk-serial\"><div class=\"sk-item\"><div class=\"sk-estimator sk-toggleable\"><input class=\"sk-toggleable__control sk-hidden--visually\" id=\"sk-estimator-id-274\" type=\"checkbox\" ><label for=\"sk-estimator-id-274\" class=\"sk-toggleable__label sk-toggleable__label-arrow\">StandardScaler</label><div class=\"sk-toggleable__content\"><pre>StandardScaler()</pre></div></div></div></div></div></div></div></div><div class=\"sk-parallel-item\"><div class=\"sk-item\"><div class=\"sk-label-container\"><div class=\"sk-label sk-toggleable\"><input class=\"sk-toggleable__control sk-hidden--visually\" id=\"sk-estimator-id-275\" type=\"checkbox\" ><label for=\"sk-estimator-id-275\" class=\"sk-toggleable__label sk-toggleable__label-arrow\">all_categ</label><div class=\"sk-toggleable__content\"><pre>[&#x27;Sex&#x27;, &#x27;Embarked&#x27;, &#x27;Title&#x27;]</pre></div></div></div><div class=\"sk-serial\"><div class=\"sk-item\"><div class=\"sk-serial\"><div class=\"sk-item\"><div class=\"sk-estimator sk-toggleable\"><input class=\"sk-toggleable__control sk-hidden--visually\" id=\"sk-estimator-id-276\" type=\"checkbox\" ><label for=\"sk-estimator-id-276\" class=\"sk-toggleable__label sk-toggleable__label-arrow\">SimpleImputer</label><div class=\"sk-toggleable__content\"><pre>SimpleImputer(strategy=&#x27;most_frequent&#x27;)</pre></div></div></div><div class=\"sk-item\"><div class=\"sk-estimator sk-toggleable\"><input class=\"sk-toggleable__control sk-hidden--visually\" id=\"sk-estimator-id-277\" type=\"checkbox\" ><label for=\"sk-estimator-id-277\" class=\"sk-toggleable__label sk-toggleable__label-arrow\">OneHotEncoder</label><div class=\"sk-toggleable__content\"><pre>OneHotEncoder(handle_unknown=&#x27;ignore&#x27;, sparse=True)</pre></div></div></div></div></div></div></div></div><div class=\"sk-parallel-item\"><div class=\"sk-item\"><div class=\"sk-label-container\"><div class=\"sk-label sk-toggleable\"><input class=\"sk-toggleable__control sk-hidden--visually\" id=\"sk-estimator-id-278\" type=\"checkbox\" ><label for=\"sk-estimator-id-278\" class=\"sk-toggleable__label sk-toggleable__label-arrow\">remainder</label><div class=\"sk-toggleable__content\"><pre>[&#x27;Survived&#x27;, &#x27;Pclass&#x27;, &#x27;FamilySize_1&#x27;, &#x27;FamilySize_2&#x27;, &#x27;FamilySize_3&#x27;]</pre></div></div></div><div class=\"sk-serial\"><div class=\"sk-item\"><div class=\"sk-estimator sk-toggleable\"><input class=\"sk-toggleable__control sk-hidden--visually\" id=\"sk-estimator-id-279\" type=\"checkbox\" ><label for=\"sk-estimator-id-279\" class=\"sk-toggleable__label sk-toggleable__label-arrow\">passthrough</label><div class=\"sk-toggleable__content\"><pre>passthrough</pre></div></div></div></div></div></div></div></div><div class=\"sk-item\"><div class=\"sk-estimator sk-toggleable\"><input class=\"sk-toggleable__control sk-hidden--visually\" id=\"sk-estimator-id-280\" type=\"checkbox\" ><label for=\"sk-estimator-id-280\" class=\"sk-toggleable__label sk-toggleable__label-arrow\">SVC</label><div class=\"sk-toggleable__content\"><pre>SVC()</pre></div></div></div></div></div></div></div></div></div></div></div></div>"
      ],
      "text/plain": [
       "GridSearchCV(cv=5,\n",
       "             estimator=Pipeline(steps=[('col_transofmer',\n",
       "                                        ColumnTransformer(remainder='passthrough',\n",
       "                                                          transformers=[('age',\n",
       "                                                                         Pipeline(steps=[('meangroupimputer',\n",
       "                                                                                          MeanGroupImputer(group_col='Title')),\n",
       "                                                                                         ('standardscaler',\n",
       "                                                                                          StandardScaler())]),\n",
       "                                                                         ['Age',\n",
       "                                                                          'Title']),\n",
       "                                                                        ('fare',\n",
       "                                                                         Pipeline(steps=[('standardscaler',\n",
       "                                                                                          StandardScaler())]),\n",
       "                                                                         ['Fare']),\n",
       "                                                                        ('all_categ',\n",
       "                                                                         Pipeline(steps=[('simpleimputer',\n",
       "                                                                                          SimpleImputer(strategy='most_frequent')),\n",
       "                                                                                         ('onehotencoder',\n",
       "                                                                                          OneHotEncoder(handle_unknown='ignore',\n",
       "                                                                                                        sparse=True))]),\n",
       "                                                                         ['Sex',\n",
       "                                                                          'Embarked',\n",
       "                                                                          'Title'])])),\n",
       "                                       ('svc', SVC())]),\n",
       "             n_jobs=-1,\n",
       "             param_grid={'svc__C': [100], 'svc__gamma': [0.01],\n",
       "                         'svc__kernel': ['rbf']},\n",
       "             scoring='accuracy', verbose=3)"
      ]
     },
     "execution_count": 177,
     "metadata": {},
     "output_type": "execute_result"
    }
   ],
   "source": [
    "from sklearn.model_selection import GridSearchCV\n",
    "\n",
    "param_grid_svc = {\n",
    "    'svc__C': [100],\n",
    "    'svc__gamma': [0.01],\n",
    "    'svc__kernel': ['rbf']\n",
    "}\n",
    "\n",
    "svc_pipe = Pipeline([\n",
    "    ('col_transofmer', column_transformer),\n",
    "    ('svc', SVC())\n",
    "])\n",
    "\n",
    "grid_pipe = GridSearchCV(svc_pipe, param_grid_svc, cv=5, scoring='accuracy', n_jobs=-1, verbose=3)\n",
    "grid_pipe.fit(X_train, y_train)"
   ]
  },
  {
   "cell_type": "code",
   "execution_count": 178,
   "metadata": {
    "deletable": false,
    "editable": false,
    "nbgrader": {
     "cell_type": "code",
     "checksum": "82365d941f185ae851db8856e683a802",
     "grade": true,
     "grade_id": "cell-056b0f3a1fda6d1a",
     "locked": true,
     "points": 2,
     "schema_version": 3,
     "solution": false,
     "task": false
    }
   },
   "outputs": [
    {
     "name": "stdout",
     "output_type": "stream",
     "text": [
      "{'svc__C': 100, 'svc__gamma': 0.01, 'svc__kernel': 'rbf'}\n",
      "0.8264596273291926\n"
     ]
    }
   ],
   "source": [
    "print(grid_pipe.best_params_)\n",
    "print(grid_pipe.best_score_)"
   ]
  },
  {
   "cell_type": "markdown",
   "metadata": {
    "deletable": false,
    "editable": false,
    "nbgrader": {
     "cell_type": "markdown",
     "checksum": "69fbf039e609592675c2bbac1c39551e",
     "grade": false,
     "grade_id": "cell-256ce340a7414671",
     "locked": true,
     "schema_version": 3,
     "solution": false,
     "task": false
    }
   },
   "source": [
    "## 2.4 Eval best model on test\n",
    "\n",
    "Now, we can use the best estimator to evaluate model on the test dataset. \n",
    "\n",
    "1. Fit model on the whole test data\n",
    "2. Make predictions on the test set\n",
    "3. Calculate accuracy"
   ]
  },
  {
   "cell_type": "code",
   "execution_count": 179,
   "metadata": {},
   "outputs": [
    {
     "data": {
      "text/plain": [
       "0.8444444444444444"
      ]
     },
     "execution_count": 179,
     "metadata": {},
     "output_type": "execute_result"
    }
   ],
   "source": [
    "from sklearn.metrics import accuracy_score\n",
    "\n",
    "grid_pipe.best_estimator_.fit(X_train, y_train)\n",
    "y_pred = grid_pipe.best_estimator_.predict(X_test)\n",
    "accuracy_score(y_test, y_pred)"
   ]
  },
  {
   "cell_type": "markdown",
   "metadata": {
    "deletable": false,
    "editable": false,
    "nbgrader": {
     "cell_type": "markdown",
     "checksum": "8601c0db1a92141fccfc5eac75767689",
     "grade": false,
     "grade_id": "cell-f49a2cc882e90504",
     "locked": true,
     "schema_version": 3,
     "solution": false,
     "task": false
    }
   },
   "source": [
    "# Optional Part\n",
    "\n",
    "This homework is based on an extremely popular [Kaggle competition](https://www.kaggle.com/c/titanic/overview). We encourage you to use the result of this homework to get aquanted with this platform. Below, we provide a short instruction along with the list of useful link for those of you who are interested to learn more about it. \n",
    "\n",
    "1. Train the best model you can. Here you can use al the training data to perform cross-validation, because there is a separate `test set` provided by the competioint (We did not use it in the assignment, because there is not correct answers provided for this test dataset)\n",
    "2. Load the test dataset: `pd.read_csv(\"titanic_kaggle_test.csv\")`. We've saved this file for you on courserra labs already\n",
    "3. Do not forget to perform the same transformations you did with the train data (e.g. create new variables, deleting others, etc.)\n",
    "4. Make predictions for this dataset and save them as a csv file. You can find example of the submission file [here](https://www.kaggle.com/c/titanic/data)\n",
    "5. Submit your predictions on Kaggle (do not forget to register beforehand). After some time you will see your score! Do not worry if you are not on the first place of the [Leaderboard](https://www.kaggle.com/c/titanic/leaderboard). Consider solutions of other Data Scientists in the [Notebooks](https://www.kaggle.com/c/titanic/notebooks) section.\n",
    "\n",
    "```Good Luck!```"
   ]
  },
  {
   "cell_type": "markdown",
   "metadata": {},
   "source": []
  }
 ],
 "metadata": {
  "colab": {
   "authorship_tag": "ABX9TyMLuDZqhJ6FOtzPDD92rePH",
   "collapsed_sections": [],
   "name": "Week 17. EDA and feature engineering.ipynb",
   "provenance": []
  },
  "kernelspec": {
   "display_name": "Python 3 (ipykernel)",
   "language": "python",
   "name": "python3"
  },
  "language_info": {
   "codemirror_mode": {
    "name": "ipython",
    "version": 3
   },
   "file_extension": ".py",
   "mimetype": "text/x-python",
   "name": "python",
   "nbconvert_exporter": "python",
   "pygments_lexer": "ipython3",
   "version": "3.9.12"
  }
 },
 "nbformat": 4,
 "nbformat_minor": 4
}

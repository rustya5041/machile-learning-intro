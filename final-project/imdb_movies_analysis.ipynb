{
 "cells": [
  {
   "cell_type": "markdown",
   "metadata": {},
   "source": [
    "\n",
    "### [40 %] Train the models and present result of your work\n",
    "- Use the models introduced during the course, which are relevant for the task you are solving\n",
    "- You are supposed to compare at least 3 models\n",
    "- Tune (or explain why there is no need to tune) hyperparameters of each model\n",
    "- Use cross-validation to compare models and select hyperparameters\n",
    "- Which model and setup is the best? How does it perform on the test dataset? "
   ]
  },
  {
   "cell_type": "markdown",
   "metadata": {},
   "source": [
    "# Libs"
   ]
  },
  {
   "cell_type": "code",
   "execution_count": 1,
   "metadata": {},
   "outputs": [],
   "source": [
    "import pandas as pd\n",
    "import numpy as np\n",
    "import matplotlib.pyplot as plt\n",
    "\n",
    "from sklearn.model_selection import train_test_split, cross_val_score\n",
    "from sklearn.preprocessing import StandardScaler, OneHotEncoder\n",
    "from sklearn.impute import SimpleImputer\n",
    "from sklearn.pipeline import Pipeline\n",
    "from sklearn.compose import ColumnTransformer\n",
    "from sklearn.linear_model import Ridge\n",
    "from sklearn.svm import SVR\n",
    "from sklearn.model_selection import GridSearchCV\n",
    "from sklearn.ensemble import GradientBoostingRegressor\n",
    "from sklearn.metrics import mean_absolute_error\n",
    "from sklearn.metrics import r2_score\n",
    "\n",
    "from warnings import filterwarnings\n",
    "filterwarnings('ignore')\n"
   ]
  },
  {
   "cell_type": "markdown",
   "metadata": {},
   "source": [
    "# Formalising the task and suggesting the evaluation criterion"
   ]
  },
  {
   "cell_type": "markdown",
   "metadata": {},
   "source": [
    "As it is generally taught during all our statistics courses at HSE, it is better to formulate your hypothesis and only then start working with the data. That's why the only thing we are interested right now are the feautres that are available to us.\n",
    "\n",
    "We will ignore distributions for now, and will run a simple EDA to check the data - features and their types, missing values, etc."
   ]
  },
  {
   "cell_type": "code",
   "execution_count": 2,
   "metadata": {},
   "outputs": [],
   "source": [
    "# import data\n",
    "movies = pd.read_csv(\"imdb_movies.csv\") # had to filter the year by 1975+ to fit to github\n"
   ]
  },
  {
   "cell_type": "code",
   "execution_count": 31,
   "metadata": {},
   "outputs": [
    {
     "name": "stdout",
     "output_type": "stream",
     "text": [
      "<class 'pandas.core.frame.DataFrame'>\n",
      "RangeIndex: 60198 entries, 0 to 60197\n",
      "Data columns (total 22 columns):\n",
      " #   Column                 Non-Null Count  Dtype  \n",
      "---  ------                 --------------  -----  \n",
      " 0   imdb_title_id          60198 non-null  object \n",
      " 1   title                  60198 non-null  object \n",
      " 2   original_title         60198 non-null  object \n",
      " 3   year                   60198 non-null  int64  \n",
      " 4   date_published         60198 non-null  object \n",
      " 5   genre                  60198 non-null  object \n",
      " 6   duration               60198 non-null  int64  \n",
      " 7   country                60193 non-null  object \n",
      " 8   language               59718 non-null  object \n",
      " 9   director               60174 non-null  object \n",
      " 10  writer                 59390 non-null  object \n",
      " 11  production_company     57454 non-null  object \n",
      " 12  actors                 60168 non-null  object \n",
      " 13  description            58205 non-null  object \n",
      " 14  avg_vote               60198 non-null  float64\n",
      " 15  votes                  60198 non-null  int64  \n",
      " 16  budget                 16819 non-null  object \n",
      " 17  usa_gross_income       11892 non-null  object \n",
      " 18  worlwide_gross_income  19136 non-null  object \n",
      " 19  metascore              8812 non-null   float64\n",
      " 20  reviews_from_users     56129 non-null  float64\n",
      " 21  reviews_from_critics   51969 non-null  float64\n",
      "dtypes: float64(4), int64(3), object(15)\n",
      "memory usage: 10.1+ MB\n"
     ]
    }
   ],
   "source": [
    "# check features & types\n",
    "movies.info()"
   ]
  },
  {
   "cell_type": "markdown",
   "metadata": {},
   "source": [
    "### `What is your target variable?`\n",
    "\n",
    "The target variable is the avg_vote column. It is a continuous variable. I'll try to utilize the regression models to predict the average vote mark for the movie."
   ]
  },
  {
   "cell_type": "markdown",
   "metadata": {},
   "source": [
    "### `Why is it a good measure of success and how the film-producing company can use it to make their decision?`\n",
    "There are two potential benefits for the companies. \n",
    "- First, they can use the model to predict the success of the movie before it is released. This will cut off the costs of the movie production by removing the movies that are predicted to be unsuccessful (and given that they are going to be too costly)\n",
    "- Second, they can research the features that are the most important for the success of the movie. This will allow them to focus on the features that weigh the most, potentially increasing revenue."
   ]
  },
  {
   "cell_type": "markdown",
   "metadata": {},
   "source": [
    "### `Which task are you going to solve (is it a regression, classification or something else)?`\n",
    "The goal is to to solve the regression task. The target variable is continuous, and the task is to predict the value of the target variable.\n"
   ]
  },
  {
   "cell_type": "markdown",
   "metadata": {},
   "source": [
    "### `Which metric will you use to evaluate the performance of the model? Do you have any idea, which values of the metrics can be considered good enough?`\n",
    "We are very interested in both cutting the costs and increasing renevue, thats why two metrics come to mind:\n",
    "- $MAE$ - mean absolute error. This metric will show us the average error of the model. MAE is easy to interpret, and it ignores the direction of the error. This is important, because we are interested in the absolute value of the error, not the direction of it. Cutting costs on the potentially successful movie is as bad as investing in the potentially unsuccessful movie.\n",
    "- $R^2$. The coefficient of determination is widespread & easy to interpret, and it is a good measure of the model's performance, especially when you are interested in discussing to what extent features cover the variance of the target variable.\n",
    "\n",
    "```python\n",
    "movies.avg_vote.describe() # gotta run this to determine the range of the target variable\n",
    "```\n",
    "\n",
    "    count    60198.000000\n",
    "    mean         5.997349\n",
    "    std          1.199483\n",
    "    min          1.000000\n",
    "    25%          5.400000\n",
    "    50%          6.200000\n",
    "    75%          6.800000\n",
    "    max         10.000000\n",
    "    Name: avg_vote, dtype: float64\n",
    "\n",
    "\n",
    "Based on the description of the target variable, I think that the MAE of $1$ is a OK-ish. This would mean that the model is off by 1 point on average. This is not a very good result, but it is a good starting point, especially since votes for movies are rather subjective."
   ]
  },
  {
   "cell_type": "markdown",
   "metadata": {},
   "source": [
    "# Explore and preprocess the data"
   ]
  },
  {
   "cell_type": "code",
   "execution_count": 32,
   "metadata": {},
   "outputs": [],
   "source": [
    "# udfs\n",
    "\n",
    "def plot_distribution(df, column, bins=20, transform=None):\n",
    "    \"\"\"\n",
    "    Plot distribution of data in a column\n",
    "    \"\"\"\n",
    "    transforms = ['log', 'sqrt', 'square', 'exp', None]\n",
    "    if transform is not None:\n",
    "        assert transform in transforms, \"transform must be in {}\".format(transforms)\n",
    "        plt.hist(df[column].apply(transform), bins=bins)\n",
    "    else:\n",
    "        plt.hist(df[column], bins=bins)\n",
    "    plt.title(column)\n",
    "    plt.show()\n"
   ]
  },
  {
   "cell_type": "code",
   "execution_count": 33,
   "metadata": {},
   "outputs": [],
   "source": [
    "# splitting data\n",
    "target = ['avg_vote']\n",
    "\n",
    "y_train, y_test = train_test_split(movies[target], test_size=0.2, random_state=42)\n",
    "X_train, X_test = train_test_split(movies.drop(target, axis=1), test_size=0.2, random_state=42)"
   ]
  },
  {
   "cell_type": "markdown",
   "metadata": {},
   "source": [
    "Let us start the EDA by checking the number of categorical and numerical features."
   ]
  },
  {
   "cell_type": "code",
   "execution_count": 34,
   "metadata": {},
   "outputs": [
    {
     "name": "stdout",
     "output_type": "stream",
     "text": [
      "Number of numeric features: 6\n",
      "Number of categorical features: 15\n",
      "\n",
      "num features: ['year', 'duration', 'votes', 'metascore', 'reviews_from_users', 'reviews_from_critics']\n",
      "cat features: ['imdb_title_id', 'title', 'original_title', 'date_published', 'genre', 'country', 'language', 'director', 'writer', 'production_company', 'actors', 'description', 'budget', 'usa_gross_income', 'worlwide_gross_income']\n"
     ]
    }
   ],
   "source": [
    "# num of numeric & categorical features\n",
    "num_features = X_train.select_dtypes(include=np.number).columns\n",
    "cat_features = X_train.select_dtypes(exclude=np.number).columns\n",
    "\n",
    "print(f\"Number of numeric features: {len(num_features)}\")\n",
    "print(f\"Number of categorical features: {len(cat_features)}\\n\")\n",
    "\n",
    "print(f'num features: {[_ for _ in num_features]}')\n",
    "print(f'cat features: {[_ for _ in cat_features]}')"
   ]
  },
  {
   "cell_type": "markdown",
   "metadata": {},
   "source": [
    "Now, let us check missing values, and remove those features that have too many missing of those."
   ]
  },
  {
   "cell_type": "code",
   "execution_count": 35,
   "metadata": {},
   "outputs": [
    {
     "data": {
      "image/png": "[encoded data removed]",
      "text/plain": [
       "<Figure size 1000x500 with 2 Axes>"
      ]
     },
     "metadata": {},
     "output_type": "display_data"
    }
   ],
   "source": [
    "# plot absolute and relative missing values\n",
    "missing = X_train.isnull().sum()\n",
    "missing = missing[missing > 0]\n",
    "missing_rel = missing / len(movies)\n",
    "\n",
    "fig, ax = plt.subplots(1, 2, figsize=(10, 5))\n",
    "color = [\"red\" if x > 0.25 else \"blue\" for x in missing_rel]\n",
    "ax[0].bar(missing.index, missing)\n",
    "ax[1].bar(missing.index, missing_rel, color=color)\n",
    "ax[0].set_xticklabels(missing.index, rotation=90)\n",
    "ax[1].set_xticklabels(missing.index, rotation=90)\n",
    "ax[1].axhline(y=0.25, color=\"red\", linestyle=\"--\")\n",
    "ax[0].set_title(\"Absolute missing values\")\n",
    "ax[1].set_title(\"Relative missing values\")\n",
    "plt.show()\n",
    "\n",
    "\n",
    "# drop columns with more than 25% of missing values\n",
    "missing_rel = missing_rel[missing_rel > 0.25]\n",
    "X_train = X_train.drop(missing_rel.index, axis=1)\n"
   ]
  },
  {
   "cell_type": "markdown",
   "metadata": {},
   "source": [
    "Let us check for missing values in the remaining columns."
   ]
  },
  {
   "cell_type": "code",
   "execution_count": 36,
   "metadata": {},
   "outputs": [
    {
     "data": {
      "text/plain": [
       "reviews_from_critics    6589\n",
       "reviews_from_users      3278\n",
       "production_company      2223\n",
       "description             1572\n",
       "writer                   640\n",
       "language                 392\n",
       "actors                    22\n",
       "director                  19\n",
       "country                    4\n",
       "duration                   0\n",
       "title                      0\n",
       "genre                      0\n",
       "date_published             0\n",
       "year                       0\n",
       "votes                      0\n",
       "original_title             0\n",
       "imdb_title_id              0\n",
       "dtype: int64"
      ]
     },
     "execution_count": 36,
     "metadata": {},
     "output_type": "execute_result"
    }
   ],
   "source": [
    "# check na, order by number of na \n",
    "X_train.isnull().sum().sort_values(ascending=False)"
   ]
  },
  {
   "cell_type": "markdown",
   "metadata": {},
   "source": [
    "Now, we need to fill the missing values in the remaining columns. We will use the SimpleImputer from sklearn for this task.\n",
    "\n",
    "The defined imputer is used later within the pipeline."
   ]
  },
  {
   "cell_type": "code",
   "execution_count": 37,
   "metadata": {},
   "outputs": [],
   "source": [
    "# imputer for numeric and categorical features\n",
    "num_imputer = SimpleImputer(strategy='median')\n",
    "cat_imputer = SimpleImputer(strategy='most_frequent')"
   ]
  },
  {
   "cell_type": "markdown",
   "metadata": {},
   "source": [
    "To remove the irrelevant features, we can check for\n",
    "- variance of numeric features; when $Var = 0$, the feature is constant and can be removed\n",
    "- number of unique values in categorical features; when $n_{unique} = 1$, the feature is constant and can be removed\n",
    "- correlation between features; high correlation between features indicates that they are redundant"
   ]
  },
  {
   "cell_type": "code",
   "execution_count": 38,
   "metadata": {},
   "outputs": [],
   "source": [
    "# assert non-zero variance\n",
    "num_features = X_train.select_dtypes(include=np.number).columns\n",
    "variance = X_train[num_features].var()\n",
    "assert (variance > 0).all(), \"There are features with zero variance\""
   ]
  },
  {
   "cell_type": "code",
   "execution_count": 39,
   "metadata": {},
   "outputs": [],
   "source": [
    "# check for constant categorical features\n",
    "cat_features = X_train.select_dtypes(exclude=np.number).columns\n",
    "constant = X_train[cat_features].nunique()\n",
    "assert (constant > 1).all(), \"There are constant categorical features\""
   ]
  },
  {
   "cell_type": "code",
   "execution_count": 40,
   "metadata": {},
   "outputs": [
    {
     "data": {
      "text/html": [
       "<div>\n",
       "<style scoped>\n",
       "    .dataframe tbody tr th:only-of-type {\n",
       "        vertical-align: middle;\n",
       "    }\n",
       "\n",
       "    .dataframe tbody tr th {\n",
       "        vertical-align: top;\n",
       "    }\n",
       "\n",
       "    .dataframe thead th {\n",
       "        text-align: right;\n",
       "    }\n",
       "</style>\n",
       "<table border=\"1\" class=\"dataframe\">\n",
       "  <thead>\n",
       "    <tr style=\"text-align: right;\">\n",
       "      <th></th>\n",
       "      <th>year</th>\n",
       "      <th>duration</th>\n",
       "      <th>votes</th>\n",
       "      <th>reviews_from_users</th>\n",
       "      <th>reviews_from_critics</th>\n",
       "    </tr>\n",
       "  </thead>\n",
       "  <tbody>\n",
       "    <tr>\n",
       "      <th>year</th>\n",
       "      <td>1.000000</td>\n",
       "      <td>0.184083</td>\n",
       "      <td>0.100812</td>\n",
       "      <td>0.102101</td>\n",
       "      <td>0.193890</td>\n",
       "    </tr>\n",
       "    <tr>\n",
       "      <th>duration</th>\n",
       "      <td>0.184083</td>\n",
       "      <td>1.000000</td>\n",
       "      <td>0.131298</td>\n",
       "      <td>0.139211</td>\n",
       "      <td>0.143898</td>\n",
       "    </tr>\n",
       "    <tr>\n",
       "      <th>votes</th>\n",
       "      <td>0.100812</td>\n",
       "      <td>0.131298</td>\n",
       "      <td>1.000000</td>\n",
       "      <td>0.846206</td>\n",
       "      <td>0.672489</td>\n",
       "    </tr>\n",
       "    <tr>\n",
       "      <th>reviews_from_users</th>\n",
       "      <td>0.102101</td>\n",
       "      <td>0.139211</td>\n",
       "      <td>0.846206</td>\n",
       "      <td>1.000000</td>\n",
       "      <td>0.723834</td>\n",
       "    </tr>\n",
       "    <tr>\n",
       "      <th>reviews_from_critics</th>\n",
       "      <td>0.193890</td>\n",
       "      <td>0.143898</td>\n",
       "      <td>0.672489</td>\n",
       "      <td>0.723834</td>\n",
       "      <td>1.000000</td>\n",
       "    </tr>\n",
       "  </tbody>\n",
       "</table>\n",
       "</div>"
      ],
      "text/plain": [
       "                          year  duration     votes  reviews_from_users  \\\n",
       "year                  1.000000  0.184083  0.100812            0.102101   \n",
       "duration              0.184083  1.000000  0.131298            0.139211   \n",
       "votes                 0.100812  0.131298  1.000000            0.846206   \n",
       "reviews_from_users    0.102101  0.139211  0.846206            1.000000   \n",
       "reviews_from_critics  0.193890  0.143898  0.672489            0.723834   \n",
       "\n",
       "                      reviews_from_critics  \n",
       "year                              0.193890  \n",
       "duration                          0.143898  \n",
       "votes                             0.672489  \n",
       "reviews_from_users                0.723834  \n",
       "reviews_from_critics              1.000000  "
      ]
     },
     "execution_count": 40,
     "metadata": {},
     "output_type": "execute_result"
    }
   ],
   "source": [
    "# check for correlations\n",
    "corr = X_train[num_features].corr()\n",
    "corr"
   ]
  },
  {
   "cell_type": "markdown",
   "metadata": {},
   "source": [
    "We can drop some irrelevant features that certain will not imporve the model score. For instance, `movie titles` or `description`."
   ]
  },
  {
   "cell_type": "code",
   "execution_count": 41,
   "metadata": {},
   "outputs": [],
   "source": [
    "# dropping redundant features\n",
    "X_train = X_train.drop(['imdb_title_id', 'title', 'original_title', 'description', 'date_published'], axis=1)"
   ]
  },
  {
   "cell_type": "markdown",
   "metadata": {},
   "source": [
    "Given the very high cardinality of categorical features, we can encode them as binary features. This will increase the number of features, since we can use top-n approach."
   ]
  },
  {
   "cell_type": "markdown",
   "metadata": {},
   "source": [
    "Now we can define a transformation pipeline."
   ]
  },
  {
   "cell_type": "code",
   "execution_count": 42,
   "metadata": {},
   "outputs": [],
   "source": [
    "num_features = X_train.select_dtypes(include=np.number).columns\n",
    "cat_features = X_train.select_dtypes(exclude=np.number).columns\n",
    "\n",
    "# pipe for numeric features\n",
    "num_pipeline = Pipeline([\n",
    "    ('imputer', SimpleImputer(strategy='median')),\n",
    "    ('scaler', StandardScaler())\n",
    "])\n",
    "\n",
    "# pipe for categorical features\n",
    "cat_pipeline = Pipeline([\n",
    "    ('imputer', cat_imputer),\n",
    "    ('encoder', OneHotEncoder(handle_unknown='ignore'))\n",
    "])\n",
    "\n",
    "# final pipe\n",
    "preprocessor = ColumnTransformer([\n",
    "    ('num', num_pipeline, num_features),\n",
    "    ('cat', cat_pipeline, cat_features)\n",
    "], remainder='passthrough')"
   ]
  },
  {
   "cell_type": "markdown",
   "metadata": {},
   "source": [
    "I'll test 3 models for this task:\n",
    "- Ridge regression\n",
    "- Gradient boosting\n",
    "- Support vector regression"
   ]
  },
  {
   "cell_type": "code",
   "execution_count": 43,
   "metadata": {},
   "outputs": [
    {
     "name": "stdout",
     "output_type": "stream",
     "text": [
      "Mean MAE: 0.635 +/- 0.003\n",
      "Mean R^2: 0.501 +/- 0.011\n"
     ]
    }
   ],
   "source": [
    "# Let's start with a simple ridge regression\n",
    "pipe_ridge = Pipeline([\n",
    "    ('preprocessor', preprocessor),\n",
    "    ('regressor', Ridge())\n",
    "])\n",
    "\n",
    "\n",
    "# cross validation on 5 folds, mae\n",
    "mae_rigde = cross_val_score(pipe_ridge, X_train, y_train, cv=5, scoring='neg_mean_absolute_error')\n",
    "print(f\"Mean MAE: {-mae_rigde.mean():.3f} +/- {mae_rigde.std():.3f}\")\n",
    "\n",
    "# cv on 5 folds, r^2\n",
    "r2_ridge = cross_val_score(pipe_ridge, X_train, y_train, cv=5, scoring='r2')\n",
    "print(f\"Mean R^2: {r2_ridge.mean():.3f} +/- {r2_ridge.std():.3f}\")"
   ]
  },
  {
   "cell_type": "code",
   "execution_count": 44,
   "metadata": {},
   "outputs": [],
   "source": [
    "# lets proceed with the SVM model\n",
    "pipe_svr = Pipeline([\n",
    "    ('preprocessor', preprocessor),\n",
    "    ('regressor', SVR())\n",
    "])\n",
    "\n",
    "# cross validation on 5 folds, mae\n",
    "mae_svr = cross_val_score(pipe_svr, X_train, y_train, cv=5, scoring='neg_mean_absolute_error')\n",
    "print(f\"Mean MAE: {-mae_svr.mean():.3f} +/- {mae_svr.std():.3f}\")\n",
    "\n",
    "# cv on 5 folds, r^2\n",
    "r2_svr = cross_val_score(pipe_svr, X_train, y_train, cv=5, scoring='r2')\n",
    "print(f\"Mean R^2: {r2_svr.mean():.3f} +/- {r2_svr.std():.3f}\")"
   ]
  },
  {
   "cell_type": "code",
   "execution_count": null,
   "metadata": {},
   "outputs": [
    {
     "name": "stdout",
     "output_type": "stream",
     "text": [
      "Mean MAE: 0.787 +/- 0.004\n",
      "Mean R^2: 0.272 +/- 0.005\n"
     ]
    }
   ],
   "source": [
    "# Finally, let's try a gradient boosting\n",
    "pipe_grad = Pipeline([\n",
    "    ('preprocessor', preprocessor),\n",
    "    ('regressor', GradientBoostingRegressor(n_estimators=10, random_state=42))\n",
    "])\n",
    "\n",
    "# cross validation on 5 folds, mae\n",
    "mae_grad = cross_val_score(pipe_grad, X_train, y_train, cv=5, scoring='neg_mean_absolute_error')\n",
    "print(f\"Mean MAE: {-mae_grad.mean():.3f} +/- {mae_grad.std():.3f}\")\n",
    "\n",
    "# cv on 5 folds, r^2\n",
    "r2_grad = cross_val_score(pipe_grad, X_train, y_train, cv=5, scoring='r2')\n",
    "print(f\"Mean R^2: {r2_grad.mean():.3f} +/- {r2_grad.std():.3f}\")\n"
   ]
  },
  {
   "cell_type": "markdown",
   "metadata": {},
   "source": [
    "Let us now run the pipeline on the test data."
   ]
  },
  {
   "cell_type": "code",
   "execution_count": null,
   "metadata": {},
   "outputs": [],
   "source": [
    "for model in [pipe_ridge, pipe_grad, pipe_svr]:\n",
    "    model.fit(X_train, y_train)\n",
    "    model_name = model.named_steps['regressor'].__class__.__name__\n",
    "\n",
    "    y_pred = model.predict(X_test)\n",
    "    print(f\"MAE for {model_name}: {mean_absolute_error(y_test, y_pred):.3f}\")\n",
    "    print(f\"R^2 for {model_name}: {r2_score(y_test, y_pred):.3f}\")\n",
    "    print('')"
   ]
  },
  {
   "cell_type": "markdown",
   "metadata": {},
   "source": [
    "As we can see, MAE-wise simple Ridge regression performs quite good. Although the R^2 is rather low (around 0.5), it can be explained by the fact that the target variable is not normally distributed and that features in our data do not fully cover the scope to predict `avg_score`."
   ]
  },
  {
   "cell_type": "markdown",
   "metadata": {},
   "source": [
    "# Performance tuning"
   ]
  },
  {
   "cell_type": "markdown",
   "metadata": {},
   "source": [
    "The block below permorms the grid search for the hyperparameters of the models. The grid search is performed on the training data, and the best model is selected based on the MAE score.\n",
    "\n",
    "I tried running it on the whole dataset, but eventually (and rather expectedly) I get OOM error. My company prohibited me from running it in Azure, sorry:(\n"
   ]
  },
  {
   "cell_type": "code",
   "execution_count": 2,
   "metadata": {},
   "outputs": [
    {
     "ename": "MemoryError",
     "evalue": "",
     "output_type": "error",
     "traceback": [
      "\u001b[0;31m---------------------------------------------------------------------------\u001b[0m",
      "\u001b[0;31mMemoryError\u001b[0m                               Traceback (most recent call last)",
      "\u001b[1;32m/Users/rustya/Desktop/Machine Learning Intro/final-project/fp_magomedov.ipynb Cell 41\u001b[0m line \u001b[0;36m1\n\u001b[0;32m----> <a href='vscode-notebook-cell:/Users/rustya/Desktop/Machine%20Learning%20Intro/final-project/fp_magomedov.ipynb#Y235sZmlsZQ%3D%3D?line=0'>1</a>\u001b[0m \u001b[39mraise\u001b[39;00m \u001b[39mMemoryError\u001b[39;00m\n\u001b[1;32m      <a href='vscode-notebook-cell:/Users/rustya/Desktop/Machine%20Learning%20Intro/final-project/fp_magomedov.ipynb#Y235sZmlsZQ%3D%3D?line=1'>2</a>\u001b[0m \u001b[39m# grid search for ridge\u001b[39;00m\n\u001b[1;32m      <a href='vscode-notebook-cell:/Users/rustya/Desktop/Machine%20Learning%20Intro/final-project/fp_magomedov.ipynb#Y235sZmlsZQ%3D%3D?line=2'>3</a>\u001b[0m param_grid \u001b[39m=\u001b[39m {\n\u001b[1;32m      <a href='vscode-notebook-cell:/Users/rustya/Desktop/Machine%20Learning%20Intro/final-project/fp_magomedov.ipynb#Y235sZmlsZQ%3D%3D?line=3'>4</a>\u001b[0m     \u001b[39m'\u001b[39m\u001b[39mregressor__alpha\u001b[39m\u001b[39m'\u001b[39m: [\u001b[39m0.1\u001b[39m, \u001b[39m1\u001b[39m, \u001b[39m10\u001b[39m, \u001b[39m100\u001b[39m],\n\u001b[1;32m      <a href='vscode-notebook-cell:/Users/rustya/Desktop/Machine%20Learning%20Intro/final-project/fp_magomedov.ipynb#Y235sZmlsZQ%3D%3D?line=4'>5</a>\u001b[0m     \u001b[39m'\u001b[39m\u001b[39mregressor__solver\u001b[39m\u001b[39m'\u001b[39m: [\u001b[39m'\u001b[39m\u001b[39msvd\u001b[39m\u001b[39m'\u001b[39m, \u001b[39m'\u001b[39m\u001b[39mcholesky\u001b[39m\u001b[39m'\u001b[39m, \u001b[39m'\u001b[39m\u001b[39mlsqr\u001b[39m\u001b[39m'\u001b[39m]\n\u001b[1;32m      <a href='vscode-notebook-cell:/Users/rustya/Desktop/Machine%20Learning%20Intro/final-project/fp_magomedov.ipynb#Y235sZmlsZQ%3D%3D?line=5'>6</a>\u001b[0m }\n",
      "\u001b[0;31mMemoryError\u001b[0m: "
     ]
    }
   ],
   "source": [
    "# grid search for ridge\n",
    "param_grid = {\n",
    "    'regressor__alpha': [0.1, 1, 10, 100],\n",
    "    'regressor__solver': ['svd', 'cholesky', 'lsqr']\n",
    "}\n",
    "grid_ridge = GridSearchCV(pipe_ridge, param_grid=param_grid, cv=5, scoring='neg_mean_absolute_error')\n",
    "grid_ridge.fit(X_train, y_train)\n",
    "\n",
    "\n",
    "# grid search for gradient boosting\n",
    "param_grid = {\n",
    "    'regressor__n_estimators': [50, 100, 200],\n",
    "    'regressor__max_depth': [3, 5, 7]\n",
    "}\n",
    "grid_grad = GridSearchCV(pipe_grad, param_grid=param_grid, cv=5, scoring='neg_mean_absolute_error')\n",
    "grid_grad.fit(X_train, y_train)\n",
    "\n",
    "\n",
    "# grid search for svm\n",
    "param_grid = {\n",
    "    'regressor__C': np.logspace(-3, 3, 7),\n",
    "    'regressor__kernel': ['linear', 'poly', 'rbf'],\n",
    "    'regressor__gamma': np.logspace(-3, 3, 7)\n",
    "}\n",
    "grid_svr = GridSearchCV(pipe_svr, param_grid=param_grid, cv=5, scoring='neg_mean_absolute_error')\n",
    "grid_svr.fit(X_train, y_train)\n",
    "\n",
    "# best params & score for ridge\n",
    "print(grid_ridge.best_params_)\n",
    "print(grid_ridge.best_score_)\n",
    "\n",
    "# best params for gradient boosting\n",
    "print(grid_grad.best_params_)\n",
    "print(grid_grad.best_score_)\n",
    "\n",
    "# best params for svm\n",
    "print(grid_svr.best_params_)\n",
    "print(grid_svr.best_score_)\n",
    "\n",
    "# determine best model\n",
    "best_model_ridge, best_model_grad, best_model_svr = grid_ridge.best_estimator_, grid_grad.best_estimator_, grid_svr.best_estimator_\n",
    "\n",
    "# final evaluation\n",
    "for model in [best_model_ridge, best_model_grad, best_model_svr]:\n",
    "    model.fit(X_train, y_train)\n",
    "    model_name = model.named_steps['regressor'].__class__.__name__\n",
    "\n",
    "    y_pred = model.predict(X_test)\n",
    "    print(f\"MAE for {model_name}: {mean_absolute_error(y_test, y_pred):.3f}\")\n",
    "    print(f\"R^2 for {model_name}: {r2_score(y_test, y_pred):.3f}\")\n",
    "    print('')"
   ]
  },
  {
   "cell_type": "markdown",
   "metadata": {},
   "source": [
    "Although the $R^2$ score of my models is not very high, the MAE is quite low. This means that the model is off by 0.5-1 point on average. This is a good result, given that we don't have too many features to predict the target variable. I guess one good adjustment would be to perform a more thorough feature engineering, and to add more features to the dataset (if the latter is possible).\n",
    "\n",
    "\n",
    "Thanks for a cool course!"
   ]
  },
  {
   "cell_type": "code",
   "execution_count": null,
   "metadata": {},
   "outputs": [],
   "source": []
  }
 ],
 "metadata": {
  "kernelspec": {
   "display_name": "base",
   "language": "python",
   "name": "python3"
  },
  "language_info": {
   "codemirror_mode": {
    "name": "ipython",
    "version": 3
   },
   "file_extension": ".py",
   "mimetype": "text/x-python",
   "name": "python",
   "nbconvert_exporter": "python",
   "pygments_lexer": "ipython3",
   "version": "3.12.0"
  }
 },
 "nbformat": 4,
 "nbformat_minor": 2
}

{
  "metadata": {
    "kernelspec": {
      "name": "python",
      "display_name": "Python (Pyodide)",
      "language": "python"
    },
    "language_info": {
      "codemirror_mode": {
        "name": "python",
        "version": 3
      },
      "file_extension": ".py",
      "mimetype": "text/x-python",
      "name": "python",
      "nbconvert_exporter": "python",
      "pygments_lexer": "ipython3",
      "version": "3.8"
    }
  },
  "nbformat_minor": 4,
  "nbformat": 4,
  "cells": [
    {
      "cell_type": "code",
      "source": "import numpy as np\nimport pandas as pd\nimport matplotlib.pyplot as plt\n\n\n%matplotlib inline",
      "metadata": {
        "trusted": true
      },
      "execution_count": 25,
      "outputs": []
    },
    {
      "cell_type": "markdown",
      "source": "## 1. Cross Val Score\n\n**Recall house prices prediction problem**\n\nWe will use the same dataset as the previous week, but already preprocessed.",
      "metadata": {}
    },
    {
      "cell_type": "code",
      "source": "data = pd.read_csv('house_prices_prep.csv')\ndata.head()",
      "metadata": {
        "trusted": true
      },
      "execution_count": 26,
      "outputs": [
        {
          "execution_count": 26,
          "output_type": "execute_result",
          "data": {
            "text/plain": "   SalePrice  LotArea  OverallQual  MasVnrArea  TotalBsmtSF  GrLivArea  \\\n0     208500   8450.0            7       196.0        856.0     1710.0   \n1     181500   9600.0            6         0.0       1262.0     1262.0   \n2     223500  11250.0            7       162.0        920.0     1786.0   \n3     140000   9550.0            7         0.0        756.0     1717.0   \n4     250000  14260.0            8       350.0       1145.0     2198.0   \n\n   FullBath  GarageCars  Fireplaces  WoodDeckSF  ...  SaleCondition_Normal  \\\n0         2           2           0         0.0  ...                   1.0   \n1         2           2           1       298.0  ...                   1.0   \n2         2           2           1         0.0  ...                   1.0   \n3         1           3           1         0.0  ...                   0.0   \n4         2           3           1       192.0  ...                   1.0   \n\n   SaleCondition_Partial  SaleCondition_other  GarageType_2Types  \\\n0                    0.0                  0.0                0.0   \n1                    0.0                  0.0                0.0   \n2                    0.0                  0.0                0.0   \n3                    0.0                  0.0                0.0   \n4                    0.0                  0.0                0.0   \n\n   GarageType_Attchd  GarageType_Basment  GarageType_BuiltIn  \\\n0                1.0                 0.0                 0.0   \n1                1.0                 0.0                 0.0   \n2                1.0                 0.0                 0.0   \n3                0.0                 0.0                 0.0   \n4                1.0                 0.0                 0.0   \n\n   GarageType_CarPort  GarageType_Detchd  GarageType_None  \n0                 0.0                0.0              0.0  \n1                 0.0                0.0              0.0  \n2                 0.0                0.0              0.0  \n3                 0.0                1.0              0.0  \n4                 0.0                0.0              0.0  \n\n[5 rows x 26 columns]",
            "text/html": "<div>\n<style scoped>\n    .dataframe tbody tr th:only-of-type {\n        vertical-align: middle;\n    }\n\n    .dataframe tbody tr th {\n        vertical-align: top;\n    }\n\n    .dataframe thead th {\n        text-align: right;\n    }\n</style>\n<table border=\"1\" class=\"dataframe\">\n  <thead>\n    <tr style=\"text-align: right;\">\n      <th></th>\n      <th>SalePrice</th>\n      <th>LotArea</th>\n      <th>OverallQual</th>\n      <th>MasVnrArea</th>\n      <th>TotalBsmtSF</th>\n      <th>GrLivArea</th>\n      <th>FullBath</th>\n      <th>GarageCars</th>\n      <th>Fireplaces</th>\n      <th>WoodDeckSF</th>\n      <th>...</th>\n      <th>SaleCondition_Normal</th>\n      <th>SaleCondition_Partial</th>\n      <th>SaleCondition_other</th>\n      <th>GarageType_2Types</th>\n      <th>GarageType_Attchd</th>\n      <th>GarageType_Basment</th>\n      <th>GarageType_BuiltIn</th>\n      <th>GarageType_CarPort</th>\n      <th>GarageType_Detchd</th>\n      <th>GarageType_None</th>\n    </tr>\n  </thead>\n  <tbody>\n    <tr>\n      <th>0</th>\n      <td>208500</td>\n      <td>8450.0</td>\n      <td>7</td>\n      <td>196.0</td>\n      <td>856.0</td>\n      <td>1710.0</td>\n      <td>2</td>\n      <td>2</td>\n      <td>0</td>\n      <td>0.0</td>\n      <td>...</td>\n      <td>1.0</td>\n      <td>0.0</td>\n      <td>0.0</td>\n      <td>0.0</td>\n      <td>1.0</td>\n      <td>0.0</td>\n      <td>0.0</td>\n      <td>0.0</td>\n      <td>0.0</td>\n      <td>0.0</td>\n    </tr>\n    <tr>\n      <th>1</th>\n      <td>181500</td>\n      <td>9600.0</td>\n      <td>6</td>\n      <td>0.0</td>\n      <td>1262.0</td>\n      <td>1262.0</td>\n      <td>2</td>\n      <td>2</td>\n      <td>1</td>\n      <td>298.0</td>\n      <td>...</td>\n      <td>1.0</td>\n      <td>0.0</td>\n      <td>0.0</td>\n      <td>0.0</td>\n      <td>1.0</td>\n      <td>0.0</td>\n      <td>0.0</td>\n      <td>0.0</td>\n      <td>0.0</td>\n      <td>0.0</td>\n    </tr>\n    <tr>\n      <th>2</th>\n      <td>223500</td>\n      <td>11250.0</td>\n      <td>7</td>\n      <td>162.0</td>\n      <td>920.0</td>\n      <td>1786.0</td>\n      <td>2</td>\n      <td>2</td>\n      <td>1</td>\n      <td>0.0</td>\n      <td>...</td>\n      <td>1.0</td>\n      <td>0.0</td>\n      <td>0.0</td>\n      <td>0.0</td>\n      <td>1.0</td>\n      <td>0.0</td>\n      <td>0.0</td>\n      <td>0.0</td>\n      <td>0.0</td>\n      <td>0.0</td>\n    </tr>\n    <tr>\n      <th>3</th>\n      <td>140000</td>\n      <td>9550.0</td>\n      <td>7</td>\n      <td>0.0</td>\n      <td>756.0</td>\n      <td>1717.0</td>\n      <td>1</td>\n      <td>3</td>\n      <td>1</td>\n      <td>0.0</td>\n      <td>...</td>\n      <td>0.0</td>\n      <td>0.0</td>\n      <td>0.0</td>\n      <td>0.0</td>\n      <td>0.0</td>\n      <td>0.0</td>\n      <td>0.0</td>\n      <td>0.0</td>\n      <td>1.0</td>\n      <td>0.0</td>\n    </tr>\n    <tr>\n      <th>4</th>\n      <td>250000</td>\n      <td>14260.0</td>\n      <td>8</td>\n      <td>350.0</td>\n      <td>1145.0</td>\n      <td>2198.0</td>\n      <td>2</td>\n      <td>3</td>\n      <td>1</td>\n      <td>192.0</td>\n      <td>...</td>\n      <td>1.0</td>\n      <td>0.0</td>\n      <td>0.0</td>\n      <td>0.0</td>\n      <td>1.0</td>\n      <td>0.0</td>\n      <td>0.0</td>\n      <td>0.0</td>\n      <td>0.0</td>\n      <td>0.0</td>\n    </tr>\n  </tbody>\n</table>\n<p>5 rows × 26 columns</p>\n</div>"
          },
          "metadata": {}
        }
      ]
    },
    {
      "cell_type": "code",
      "source": "from sklearn.model_selection import train_test_split\n\ntr, te = train_test_split(data, test_size=0.2, random_state=42)\n\ny_train = tr.SalePrice\ny_test = te.SalePrice\nX_train = tr.drop(['SalePrice'], axis=1)\nX_test = te.drop(['SalePrice'], axis=1)",
      "metadata": {
        "trusted": true
      },
      "execution_count": 28,
      "outputs": []
    },
    {
      "cell_type": "markdown",
      "source": "All the preprocessing was already done, so the only thing we need to do is scale numerical features. For example, we can use `StandardScaler` for that.",
      "metadata": {}
    },
    {
      "cell_type": "code",
      "source": "from sklearn.preprocessing import StandardScaler\nfrom sklearn.compose import ColumnTransformer\n\nnum_cols = ['LotArea', 'MasVnrArea', 'TotalBsmtSF', 'GrLivArea', 'WoodDeckSF', 'OpenPorchSF', 'Age', 'RemodAge']\n\n# transform\ncolumn_transforms = ColumnTransformer([\n    ('scaling', StandardScaler(), num_cols),\n], remainder='passthrough')",
      "metadata": {
        "trusted": true
      },
      "execution_count": 29,
      "outputs": []
    },
    {
      "cell_type": "markdown",
      "source": "Total Pipeline:\n - Column Tranformer\n - Linear Regression",
      "metadata": {}
    },
    {
      "cell_type": "code",
      "source": "from sklearn.linear_model import LinearRegression\nfrom sklearn.pipeline import make_pipeline\n\n# define pipeline\npipe = make_pipeline(column_transforms,\n                     LinearRegression())",
      "metadata": {
        "trusted": true
      },
      "execution_count": 30,
      "outputs": []
    },
    {
      "cell_type": "markdown",
      "source": "But what if I want to try different preprocessing? E.g we can use `MinMaxScaler` for numerical features instead of `StandardScaler`?\n",
      "metadata": {}
    },
    {
      "cell_type": "code",
      "source": "from sklearn.preprocessing import MinMaxScaler\n\n#option 2\ncolumn_transforms_2 = ColumnTransformer([\n    ('scaling', MinMaxScaler(), num_cols),\n], remainder = 'passthrough')\n\npipe_2 = make_pipeline(column_transforms_2,\n                       LinearRegression())",
      "metadata": {
        "trusted": true
      },
      "execution_count": 31,
      "outputs": []
    },
    {
      "cell_type": "markdown",
      "source": "\nWe would like to compare Linear Regression these two types of preprocessing **before** evaluating model on the test set. Cross-validation is very useful in this case. ",
      "metadata": {}
    },
    {
      "cell_type": "markdown",
      "source": "![im](https://scikit-learn.org/stable/_images/grid_search_cross_validation.png)",
      "metadata": {}
    },
    {
      "cell_type": "markdown",
      "source": "`sklearn.model_selection` module has a a function `cross_val_score`\n\n**Parameters**:\n - estimator (model or the whole pipeline)\n - training data\n - number of folds or custom CV object\n - scorer ",
      "metadata": {}
    },
    {
      "cell_type": "code",
      "source": "# possible scorers\nimport sklearn.metrics\nsorted(sklearn.metrics.SCORERS.keys())",
      "metadata": {
        "trusted": true
      },
      "execution_count": 32,
      "outputs": [
        {
          "execution_count": 32,
          "output_type": "execute_result",
          "data": {
            "text/plain": "['accuracy',\n 'adjusted_mutual_info_score',\n 'adjusted_rand_score',\n 'average_precision',\n 'balanced_accuracy',\n 'completeness_score',\n 'explained_variance',\n 'f1',\n 'f1_macro',\n 'f1_micro',\n 'f1_samples',\n 'f1_weighted',\n 'fowlkes_mallows_score',\n 'homogeneity_score',\n 'jaccard',\n 'jaccard_macro',\n 'jaccard_micro',\n 'jaccard_samples',\n 'jaccard_weighted',\n 'matthews_corrcoef',\n 'max_error',\n 'mutual_info_score',\n 'neg_brier_score',\n 'neg_log_loss',\n 'neg_mean_absolute_error',\n 'neg_mean_absolute_percentage_error',\n 'neg_mean_gamma_deviance',\n 'neg_mean_poisson_deviance',\n 'neg_mean_squared_error',\n 'neg_mean_squared_log_error',\n 'neg_median_absolute_error',\n 'neg_negative_likelihood_ratio',\n 'neg_root_mean_squared_error',\n 'normalized_mutual_info_score',\n 'positive_likelihood_ratio',\n 'precision',\n 'precision_macro',\n 'precision_micro',\n 'precision_samples',\n 'precision_weighted',\n 'r2',\n 'rand_score',\n 'recall',\n 'recall_macro',\n 'recall_micro',\n 'recall_samples',\n 'recall_weighted',\n 'roc_auc',\n 'roc_auc_ovo',\n 'roc_auc_ovo_weighted',\n 'roc_auc_ovr',\n 'roc_auc_ovr_weighted',\n 'top_k_accuracy',\n 'v_measure_score']"
          },
          "metadata": {}
        }
      ]
    },
    {
      "cell_type": "markdown",
      "source": "We will use K-Fold cross validation. But there are other, more sophisticated options available. You can read about them [here](https://scikit-learn.org/stable/modules/cross_validation.html#cross-validation-iterators)",
      "metadata": {}
    },
    {
      "cell_type": "markdown",
      "source": "CV-score of the first pipeline:",
      "metadata": {}
    },
    {
      "cell_type": "code",
      "source": "from sklearn.model_selection import cross_val_score\n\nnp.mean((-cross_val_score(pipe, X_train, y_train, cv=10, \n                scoring='neg_mean_squared_error'))**0.5)",
      "metadata": {
        "trusted": true
      },
      "execution_count": 33,
      "outputs": [
        {
          "execution_count": 33,
          "output_type": "execute_result",
          "data": {
            "text/plain": "35405.07542373272"
          },
          "metadata": {}
        }
      ]
    },
    {
      "cell_type": "markdown",
      "source": "CV-score of the second pipeline:",
      "metadata": {}
    },
    {
      "cell_type": "code",
      "source": "np.mean((-cross_val_score(pipe_2, X_train, y_train, cv=10, \n                scoring='neg_mean_squared_error'))**0.5)",
      "metadata": {
        "trusted": true
      },
      "execution_count": 34,
      "outputs": [
        {
          "execution_count": 34,
          "output_type": "execute_result",
          "data": {
            "text/plain": "35369.563615740706"
          },
          "metadata": {}
        }
      ]
    },
    {
      "cell_type": "markdown",
      "source": "---\n\n## 2. Linear Regression with Regularization\n\n**Lasso**\n$$\n\\min_{w} MSE + \\lambda \\|w\\|_1\n$$\n\n\n**Ridge**\n$$\n\\min_{w} MSE + \\lambda \\|w\\|_2^2\n$$\n\nLet us use cross-validation to compare Lasso and Ridge regression.",
      "metadata": {}
    },
    {
      "cell_type": "code",
      "source": "from sklearn.pipeline import Pipeline\nfrom sklearn.linear_model import Lasso, Ridge\n\n# define pipelines\npipe_lasso = Pipeline([\n    ('transform', column_transforms),\n    ('lasso', Lasso())\n])\n\npipe_ridge = Pipeline([\n    ('transform', column_transforms),\n    ('ridge', Ridge())\n])",
      "metadata": {
        "trusted": true
      },
      "execution_count": 35,
      "outputs": []
    },
    {
      "cell_type": "code",
      "source": "# lasso cv score\n(-np.mean(cross_val_score(pipe_lasso, X_train, y_train, cv=10, \n                scoring='neg_mean_squared_error')))**0.5",
      "metadata": {
        "trusted": true
      },
      "execution_count": 36,
      "outputs": [
        {
          "name": "stderr",
          "text": "/lib/python3.11/site-packages/sklearn/linear_model/_coordinate_descent.py:631: ConvergenceWarning: Objective did not converge. You might want to increase the number of iterations, check the scale of the features or consider increasing regularisation. Duality gap: 1.354e+11, tolerance: 6.336e+08\n  model = cd_fast.enet_coordinate_descent(\n/lib/python3.11/site-packages/sklearn/linear_model/_coordinate_descent.py:631: ConvergenceWarning: Objective did not converge. You might want to increase the number of iterations, check the scale of the features or consider increasing regularisation. Duality gap: 1.384e+11, tolerance: 6.332e+08\n  model = cd_fast.enet_coordinate_descent(\n/lib/python3.11/site-packages/sklearn/linear_model/_coordinate_descent.py:631: ConvergenceWarning: Objective did not converge. You might want to increase the number of iterations, check the scale of the features or consider increasing regularisation. Duality gap: 1.395e+11, tolerance: 6.468e+08\n  model = cd_fast.enet_coordinate_descent(\n",
          "output_type": "stream"
        },
        {
          "execution_count": 36,
          "output_type": "execute_result",
          "data": {
            "text/plain": "37080.20629995392"
          },
          "metadata": {}
        }
      ]
    },
    {
      "cell_type": "code",
      "source": "# ridge cv score\n(-np.mean(cross_val_score(pipe_ridge, X_train, y_train, cv=10, \n                scoring='neg_mean_squared_error')))**0.5",
      "metadata": {
        "trusted": true
      },
      "execution_count": 37,
      "outputs": [
        {
          "execution_count": 37,
          "output_type": "execute_result",
          "data": {
            "text/plain": "37067.27581107692"
          },
          "metadata": {}
        }
      ]
    },
    {
      "cell_type": "code",
      "source": "# take a look at our pipeline\npipe_lasso.steps",
      "metadata": {
        "trusted": true
      },
      "execution_count": 38,
      "outputs": [
        {
          "execution_count": 38,
          "output_type": "execute_result",
          "data": {
            "text/plain": "[('transform',\n  ColumnTransformer(remainder='passthrough',\n                    transformers=[('scaling', StandardScaler(),\n                                   ['LotArea', 'MasVnrArea', 'TotalBsmtSF',\n                                    'GrLivArea', 'WoodDeckSF', 'OpenPorchSF',\n                                    'Age', 'RemodAge'])])),\n ('lasso', Lasso())]"
          },
          "metadata": {}
        }
      ]
    },
    {
      "cell_type": "markdown",
      "source": "But now we also want to try different values of regularization coefficient. Creating new pipeline for each optin would be too much, so we need a better solution. `GridSearchCV` will help us.",
      "metadata": {}
    },
    {
      "cell_type": "code",
      "source": "from sklearn.model_selection import GridSearchCV",
      "metadata": {
        "trusted": true
      },
      "execution_count": 39,
      "outputs": []
    },
    {
      "cell_type": "code",
      "source": "# define pipeline\npipe_ridge = Pipeline([\n    ('transform', column_transforms),\n    ('ridge', Ridge())\n])\n\n# define parameter grid \nparam_grid = {\n    'ridge__alpha':[1e-4, 1e-2, 0.1, 1, 10]\n}\n\n\n# define `GridSearchCV` object\npipe_cv = GridSearchCV(pipe_ridge, param_grid=param_grid,\n                      cv=10, scoring='neg_mean_squared_error')",
      "metadata": {
        "trusted": true
      },
      "execution_count": 42,
      "outputs": []
    },
    {
      "cell_type": "code",
      "source": "# fit `pipe_cv`\npipe_cv.fit(X_train, y_train)\n\n# get best estimator\npipe_cv.best_estimator_",
      "metadata": {
        "trusted": true
      },
      "execution_count": 43,
      "outputs": [
        {
          "execution_count": 43,
          "output_type": "execute_result",
          "data": {
            "text/plain": "Pipeline(steps=[('transform',\n                 ColumnTransformer(remainder='passthrough',\n                                   transformers=[('scaling', StandardScaler(),\n                                                  ['LotArea', 'MasVnrArea',\n                                                   'TotalBsmtSF', 'GrLivArea',\n                                                   'WoodDeckSF', 'OpenPorchSF',\n                                                   'Age', 'RemodAge'])])),\n                ('ridge', Ridge(alpha=10))])",
            "text/html": "<style>#sk-container-id-1 {color: black;background-color: white;}#sk-container-id-1 pre{padding: 0;}#sk-container-id-1 div.sk-toggleable {background-color: white;}#sk-container-id-1 label.sk-toggleable__label {cursor: pointer;display: block;width: 100%;margin-bottom: 0;padding: 0.3em;box-sizing: border-box;text-align: center;}#sk-container-id-1 label.sk-toggleable__label-arrow:before {content: \"▸\";float: left;margin-right: 0.25em;color: #696969;}#sk-container-id-1 label.sk-toggleable__label-arrow:hover:before {color: black;}#sk-container-id-1 div.sk-estimator:hover label.sk-toggleable__label-arrow:before {color: black;}#sk-container-id-1 div.sk-toggleable__content {max-height: 0;max-width: 0;overflow: hidden;text-align: left;background-color: #f0f8ff;}#sk-container-id-1 div.sk-toggleable__content pre {margin: 0.2em;color: black;border-radius: 0.25em;background-color: #f0f8ff;}#sk-container-id-1 input.sk-toggleable__control:checked~div.sk-toggleable__content {max-height: 200px;max-width: 100%;overflow: auto;}#sk-container-id-1 input.sk-toggleable__control:checked~label.sk-toggleable__label-arrow:before {content: \"▾\";}#sk-container-id-1 div.sk-estimator input.sk-toggleable__control:checked~label.sk-toggleable__label {background-color: #d4ebff;}#sk-container-id-1 div.sk-label input.sk-toggleable__control:checked~label.sk-toggleable__label {background-color: #d4ebff;}#sk-container-id-1 input.sk-hidden--visually {border: 0;clip: rect(1px 1px 1px 1px);clip: rect(1px, 1px, 1px, 1px);height: 1px;margin: -1px;overflow: hidden;padding: 0;position: absolute;width: 1px;}#sk-container-id-1 div.sk-estimator {font-family: monospace;background-color: #f0f8ff;border: 1px dotted black;border-radius: 0.25em;box-sizing: border-box;margin-bottom: 0.5em;}#sk-container-id-1 div.sk-estimator:hover {background-color: #d4ebff;}#sk-container-id-1 div.sk-parallel-item::after {content: \"\";width: 100%;border-bottom: 1px solid gray;flex-grow: 1;}#sk-container-id-1 div.sk-label:hover label.sk-toggleable__label {background-color: #d4ebff;}#sk-container-id-1 div.sk-serial::before {content: \"\";position: absolute;border-left: 1px solid gray;box-sizing: border-box;top: 0;bottom: 0;left: 50%;z-index: 0;}#sk-container-id-1 div.sk-serial {display: flex;flex-direction: column;align-items: center;background-color: white;padding-right: 0.2em;padding-left: 0.2em;position: relative;}#sk-container-id-1 div.sk-item {position: relative;z-index: 1;}#sk-container-id-1 div.sk-parallel {display: flex;align-items: stretch;justify-content: center;background-color: white;position: relative;}#sk-container-id-1 div.sk-item::before, #sk-container-id-1 div.sk-parallel-item::before {content: \"\";position: absolute;border-left: 1px solid gray;box-sizing: border-box;top: 0;bottom: 0;left: 50%;z-index: -1;}#sk-container-id-1 div.sk-parallel-item {display: flex;flex-direction: column;z-index: 1;position: relative;background-color: white;}#sk-container-id-1 div.sk-parallel-item:first-child::after {align-self: flex-end;width: 50%;}#sk-container-id-1 div.sk-parallel-item:last-child::after {align-self: flex-start;width: 50%;}#sk-container-id-1 div.sk-parallel-item:only-child::after {width: 0;}#sk-container-id-1 div.sk-dashed-wrapped {border: 1px dashed gray;margin: 0 0.4em 0.5em 0.4em;box-sizing: border-box;padding-bottom: 0.4em;background-color: white;}#sk-container-id-1 div.sk-label label {font-family: monospace;font-weight: bold;display: inline-block;line-height: 1.2em;}#sk-container-id-1 div.sk-label-container {text-align: center;}#sk-container-id-1 div.sk-container {/* jupyter's `normalize.less` sets `[hidden] { display: none; }` but bootstrap.min.css set `[hidden] { display: none !important; }` so we also need the `!important` here to be able to override the default hidden behavior on the sphinx rendered scikit-learn.org. See: https://github.com/scikit-learn/scikit-learn/issues/21755 */display: inline-block !important;position: relative;}#sk-container-id-1 div.sk-text-repr-fallback {display: none;}</style><div id=\"sk-container-id-1\" class=\"sk-top-container\"><div class=\"sk-text-repr-fallback\"><pre>Pipeline(steps=[(&#x27;transform&#x27;,\n                 ColumnTransformer(remainder=&#x27;passthrough&#x27;,\n                                   transformers=[(&#x27;scaling&#x27;, StandardScaler(),\n                                                  [&#x27;LotArea&#x27;, &#x27;MasVnrArea&#x27;,\n                                                   &#x27;TotalBsmtSF&#x27;, &#x27;GrLivArea&#x27;,\n                                                   &#x27;WoodDeckSF&#x27;, &#x27;OpenPorchSF&#x27;,\n                                                   &#x27;Age&#x27;, &#x27;RemodAge&#x27;])])),\n                (&#x27;ridge&#x27;, Ridge(alpha=10))])</pre><b>In a Jupyter environment, please rerun this cell to show the HTML representation or trust the notebook. <br />On GitHub, the HTML representation is unable to render, please try loading this page with nbviewer.org.</b></div><div class=\"sk-container\" hidden><div class=\"sk-item sk-dashed-wrapped\"><div class=\"sk-label-container\"><div class=\"sk-label sk-toggleable\"><input class=\"sk-toggleable__control sk-hidden--visually\" id=\"sk-estimator-id-1\" type=\"checkbox\" ><label for=\"sk-estimator-id-1\" class=\"sk-toggleable__label sk-toggleable__label-arrow\">Pipeline</label><div class=\"sk-toggleable__content\"><pre>Pipeline(steps=[(&#x27;transform&#x27;,\n                 ColumnTransformer(remainder=&#x27;passthrough&#x27;,\n                                   transformers=[(&#x27;scaling&#x27;, StandardScaler(),\n                                                  [&#x27;LotArea&#x27;, &#x27;MasVnrArea&#x27;,\n                                                   &#x27;TotalBsmtSF&#x27;, &#x27;GrLivArea&#x27;,\n                                                   &#x27;WoodDeckSF&#x27;, &#x27;OpenPorchSF&#x27;,\n                                                   &#x27;Age&#x27;, &#x27;RemodAge&#x27;])])),\n                (&#x27;ridge&#x27;, Ridge(alpha=10))])</pre></div></div></div><div class=\"sk-serial\"><div class=\"sk-item sk-dashed-wrapped\"><div class=\"sk-label-container\"><div class=\"sk-label sk-toggleable\"><input class=\"sk-toggleable__control sk-hidden--visually\" id=\"sk-estimator-id-2\" type=\"checkbox\" ><label for=\"sk-estimator-id-2\" class=\"sk-toggleable__label sk-toggleable__label-arrow\">transform: ColumnTransformer</label><div class=\"sk-toggleable__content\"><pre>ColumnTransformer(remainder=&#x27;passthrough&#x27;,\n                  transformers=[(&#x27;scaling&#x27;, StandardScaler(),\n                                 [&#x27;LotArea&#x27;, &#x27;MasVnrArea&#x27;, &#x27;TotalBsmtSF&#x27;,\n                                  &#x27;GrLivArea&#x27;, &#x27;WoodDeckSF&#x27;, &#x27;OpenPorchSF&#x27;,\n                                  &#x27;Age&#x27;, &#x27;RemodAge&#x27;])])</pre></div></div></div><div class=\"sk-parallel\"><div class=\"sk-parallel-item\"><div class=\"sk-item\"><div class=\"sk-label-container\"><div class=\"sk-label sk-toggleable\"><input class=\"sk-toggleable__control sk-hidden--visually\" id=\"sk-estimator-id-3\" type=\"checkbox\" ><label for=\"sk-estimator-id-3\" class=\"sk-toggleable__label sk-toggleable__label-arrow\">scaling</label><div class=\"sk-toggleable__content\"><pre>[&#x27;LotArea&#x27;, &#x27;MasVnrArea&#x27;, &#x27;TotalBsmtSF&#x27;, &#x27;GrLivArea&#x27;, &#x27;WoodDeckSF&#x27;, &#x27;OpenPorchSF&#x27;, &#x27;Age&#x27;, &#x27;RemodAge&#x27;]</pre></div></div></div><div class=\"sk-serial\"><div class=\"sk-item\"><div class=\"sk-estimator sk-toggleable\"><input class=\"sk-toggleable__control sk-hidden--visually\" id=\"sk-estimator-id-4\" type=\"checkbox\" ><label for=\"sk-estimator-id-4\" class=\"sk-toggleable__label sk-toggleable__label-arrow\">StandardScaler</label><div class=\"sk-toggleable__content\"><pre>StandardScaler()</pre></div></div></div></div></div></div><div class=\"sk-parallel-item\"><div class=\"sk-item\"><div class=\"sk-label-container\"><div class=\"sk-label sk-toggleable\"><input class=\"sk-toggleable__control sk-hidden--visually\" id=\"sk-estimator-id-5\" type=\"checkbox\" ><label for=\"sk-estimator-id-5\" class=\"sk-toggleable__label sk-toggleable__label-arrow\">remainder</label><div class=\"sk-toggleable__content\"><pre>[&#x27;OverallQual&#x27;, &#x27;FullBath&#x27;, &#x27;GarageCars&#x27;, &#x27;Fireplaces&#x27;, &#x27;KitchenQual&#x27;, &#x27;SaleCondition_Abnorml&#x27;, &#x27;SaleCondition_Family&#x27;, &#x27;SaleCondition_Normal&#x27;, &#x27;SaleCondition_Partial&#x27;, &#x27;SaleCondition_other&#x27;, &#x27;GarageType_2Types&#x27;, &#x27;GarageType_Attchd&#x27;, &#x27;GarageType_Basment&#x27;, &#x27;GarageType_BuiltIn&#x27;, &#x27;GarageType_CarPort&#x27;, &#x27;GarageType_Detchd&#x27;, &#x27;GarageType_None&#x27;]</pre></div></div></div><div class=\"sk-serial\"><div class=\"sk-item\"><div class=\"sk-estimator sk-toggleable\"><input class=\"sk-toggleable__control sk-hidden--visually\" id=\"sk-estimator-id-6\" type=\"checkbox\" ><label for=\"sk-estimator-id-6\" class=\"sk-toggleable__label sk-toggleable__label-arrow\">passthrough</label><div class=\"sk-toggleable__content\"><pre>passthrough</pre></div></div></div></div></div></div></div></div><div class=\"sk-item\"><div class=\"sk-estimator sk-toggleable\"><input class=\"sk-toggleable__control sk-hidden--visually\" id=\"sk-estimator-id-7\" type=\"checkbox\" ><label for=\"sk-estimator-id-7\" class=\"sk-toggleable__label sk-toggleable__label-arrow\">Ridge</label><div class=\"sk-toggleable__content\"><pre>Ridge(alpha=10)</pre></div></div></div></div></div></div></div>"
          },
          "metadata": {}
        }
      ]
    },
    {
      "cell_type": "markdown",
      "source": "### Compare models with GridSearchCV\nBy far we've used cross-validation to:\n- Compare two different models\n- Select best set of hyperparameters within one model\n\nBut what if we want to do both? We can use `GridSearchCV` to compare different models with different sets of hyperparameters and select the best one. \n\nTo do that, we need to add different models into the parameter grid. ",
      "metadata": {}
    },
    {
      "cell_type": "code",
      "source": "from sklearn.pipeline import Pipeline\n\n# define pipe \npipe = Pipeline([\n    ('preprocess', column_transforms),\n    ('reg', Ridge())\n])\n\n# define param grid\nparam_grid = {\n    'reg': [Ridge(), Lasso()],\n    'reg__alpha': [1e-2, 0.1, 1, 10]\n}\n\n# define grid search object\npipe_cv = GridSearchCV(pipe, param_grid=param_grid,\n                      cv=10, \n                      scoring = 'neg_mean_squared_error')",
      "metadata": {
        "trusted": true
      },
      "execution_count": 51,
      "outputs": []
    },
    {
      "cell_type": "code",
      "source": "# fit\npipe_cv.fit(X_train, y_train)",
      "metadata": {
        "collapsed": true,
        "jupyter": {
          "outputs_hidden": true
        },
        "tags": [],
        "trusted": true
      },
      "execution_count": 52,
      "outputs": [
        {
          "name": "stderr",
          "text": "/lib/python3.11/site-packages/sklearn/linear_model/_coordinate_descent.py:631: ConvergenceWarning: Objective did not converge. You might want to increase the number of iterations, check the scale of the features or consider increasing regularisation. Duality gap: 7.446e+10, tolerance: 6.409e+08\n  model = cd_fast.enet_coordinate_descent(\n/lib/python3.11/site-packages/sklearn/linear_model/_coordinate_descent.py:631: ConvergenceWarning: Objective did not converge. You might want to increase the number of iterations, check the scale of the features or consider increasing regularisation. Duality gap: 2.618e+09, tolerance: 5.930e+08\n  model = cd_fast.enet_coordinate_descent(\n/lib/python3.11/site-packages/sklearn/linear_model/_coordinate_descent.py:631: ConvergenceWarning: Objective did not converge. You might want to increase the number of iterations, check the scale of the features or consider increasing regularisation. Duality gap: 6.983e+10, tolerance: 6.336e+08\n  model = cd_fast.enet_coordinate_descent(\n/lib/python3.11/site-packages/sklearn/linear_model/_coordinate_descent.py:631: ConvergenceWarning: Objective did not converge. You might want to increase the number of iterations, check the scale of the features or consider increasing regularisation. Duality gap: 6.930e+10, tolerance: 6.352e+08\n  model = cd_fast.enet_coordinate_descent(\n/lib/python3.11/site-packages/sklearn/linear_model/_coordinate_descent.py:631: ConvergenceWarning: Objective did not converge. You might want to increase the number of iterations, check the scale of the features or consider increasing regularisation. Duality gap: 5.870e+10, tolerance: 6.192e+08\n  model = cd_fast.enet_coordinate_descent(\n/lib/python3.11/site-packages/sklearn/linear_model/_coordinate_descent.py:631: ConvergenceWarning: Objective did not converge. You might want to increase the number of iterations, check the scale of the features or consider increasing regularisation. Duality gap: 6.869e+10, tolerance: 6.031e+08\n  model = cd_fast.enet_coordinate_descent(\n/lib/python3.11/site-packages/sklearn/linear_model/_coordinate_descent.py:631: ConvergenceWarning: Objective did not converge. You might want to increase the number of iterations, check the scale of the features or consider increasing regularisation. Duality gap: 3.040e+09, tolerance: 6.351e+08\n  model = cd_fast.enet_coordinate_descent(\n/lib/python3.11/site-packages/sklearn/linear_model/_coordinate_descent.py:631: ConvergenceWarning: Objective did not converge. You might want to increase the number of iterations, check the scale of the features or consider increasing regularisation. Duality gap: 7.582e+10, tolerance: 6.332e+08\n  model = cd_fast.enet_coordinate_descent(\n/lib/python3.11/site-packages/sklearn/linear_model/_coordinate_descent.py:631: ConvergenceWarning: Objective did not converge. You might want to increase the number of iterations, check the scale of the features or consider increasing regularisation. Duality gap: 7.418e+10, tolerance: 6.468e+08\n  model = cd_fast.enet_coordinate_descent(\n/lib/python3.11/site-packages/sklearn/linear_model/_coordinate_descent.py:631: ConvergenceWarning: Objective did not converge. You might want to increase the number of iterations, check the scale of the features or consider increasing regularisation. Duality gap: 7.536e+10, tolerance: 6.294e+08\n  model = cd_fast.enet_coordinate_descent(\n/lib/python3.11/site-packages/sklearn/linear_model/_coordinate_descent.py:631: ConvergenceWarning: Objective did not converge. You might want to increase the number of iterations, check the scale of the features or consider increasing regularisation. Duality gap: 1.380e+11, tolerance: 6.409e+08\n  model = cd_fast.enet_coordinate_descent(\n/lib/python3.11/site-packages/sklearn/linear_model/_coordinate_descent.py:631: ConvergenceWarning: Objective did not converge. You might want to increase the number of iterations, check the scale of the features or consider increasing regularisation. Duality gap: 1.353e+11, tolerance: 6.336e+08\n  model = cd_fast.enet_coordinate_descent(\n/lib/python3.11/site-packages/sklearn/linear_model/_coordinate_descent.py:631: ConvergenceWarning: Objective did not converge. You might want to increase the number of iterations, check the scale of the features or consider increasing regularisation. Duality gap: 2.702e+09, tolerance: 6.352e+08\n  model = cd_fast.enet_coordinate_descent(\n/lib/python3.11/site-packages/sklearn/linear_model/_coordinate_descent.py:631: ConvergenceWarning: Objective did not converge. You might want to increase the number of iterations, check the scale of the features or consider increasing regularisation. Duality gap: 5.871e+10, tolerance: 6.192e+08\n  model = cd_fast.enet_coordinate_descent(\n/lib/python3.11/site-packages/sklearn/linear_model/_coordinate_descent.py:631: ConvergenceWarning: Objective did not converge. You might want to increase the number of iterations, check the scale of the features or consider increasing regularisation. Duality gap: 1.289e+11, tolerance: 6.031e+08\n  model = cd_fast.enet_coordinate_descent(\n/lib/python3.11/site-packages/sklearn/linear_model/_coordinate_descent.py:631: ConvergenceWarning: Objective did not converge. You might want to increase the number of iterations, check the scale of the features or consider increasing regularisation. Duality gap: 3.043e+09, tolerance: 6.351e+08\n  model = cd_fast.enet_coordinate_descent(\n/lib/python3.11/site-packages/sklearn/linear_model/_coordinate_descent.py:631: ConvergenceWarning: Objective did not converge. You might want to increase the number of iterations, check the scale of the features or consider increasing regularisation. Duality gap: 7.583e+10, tolerance: 6.332e+08\n  model = cd_fast.enet_coordinate_descent(\n/lib/python3.11/site-packages/sklearn/linear_model/_coordinate_descent.py:631: ConvergenceWarning: Objective did not converge. You might want to increase the number of iterations, check the scale of the features or consider increasing regularisation. Duality gap: 1.394e+11, tolerance: 6.468e+08\n  model = cd_fast.enet_coordinate_descent(\n/lib/python3.11/site-packages/sklearn/linear_model/_coordinate_descent.py:631: ConvergenceWarning: Objective did not converge. You might want to increase the number of iterations, check the scale of the features or consider increasing regularisation. Duality gap: 1.379e+11, tolerance: 6.294e+08\n  model = cd_fast.enet_coordinate_descent(\n/lib/python3.11/site-packages/sklearn/linear_model/_coordinate_descent.py:631: ConvergenceWarning: Objective did not converge. You might want to increase the number of iterations, check the scale of the features or consider increasing regularisation. Duality gap: 1.354e+11, tolerance: 6.336e+08\n  model = cd_fast.enet_coordinate_descent(\n/lib/python3.11/site-packages/sklearn/linear_model/_coordinate_descent.py:631: ConvergenceWarning: Objective did not converge. You might want to increase the number of iterations, check the scale of the features or consider increasing regularisation. Duality gap: 1.384e+11, tolerance: 6.332e+08\n  model = cd_fast.enet_coordinate_descent(\n/lib/python3.11/site-packages/sklearn/linear_model/_coordinate_descent.py:631: ConvergenceWarning: Objective did not converge. You might want to increase the number of iterations, check the scale of the features or consider increasing regularisation. Duality gap: 1.395e+11, tolerance: 6.468e+08\n  model = cd_fast.enet_coordinate_descent(\n",
          "output_type": "stream"
        },
        {
          "execution_count": 52,
          "output_type": "execute_result",
          "data": {
            "text/plain": "GridSearchCV(cv=10,\n             estimator=Pipeline(steps=[('preprocess',\n                                        ColumnTransformer(remainder='passthrough',\n                                                          transformers=[('scaling',\n                                                                         StandardScaler(),\n                                                                         ['LotArea',\n                                                                          'MasVnrArea',\n                                                                          'TotalBsmtSF',\n                                                                          'GrLivArea',\n                                                                          'WoodDeckSF',\n                                                                          'OpenPorchSF',\n                                                                          'Age',\n                                                                          'RemodAge'])])),\n                                       ('reg', Ridge())]),\n             param_grid={'reg': [Ridge(alpha=10), Lasso()],\n                         'reg__alpha': [0.01, 0.1, 1, 10]},\n             scoring='neg_mean_squared_error')",
            "text/html": "<style>#sk-container-id-3 {color: black;background-color: white;}#sk-container-id-3 pre{padding: 0;}#sk-container-id-3 div.sk-toggleable {background-color: white;}#sk-container-id-3 label.sk-toggleable__label {cursor: pointer;display: block;width: 100%;margin-bottom: 0;padding: 0.3em;box-sizing: border-box;text-align: center;}#sk-container-id-3 label.sk-toggleable__label-arrow:before {content: \"▸\";float: left;margin-right: 0.25em;color: #696969;}#sk-container-id-3 label.sk-toggleable__label-arrow:hover:before {color: black;}#sk-container-id-3 div.sk-estimator:hover label.sk-toggleable__label-arrow:before {color: black;}#sk-container-id-3 div.sk-toggleable__content {max-height: 0;max-width: 0;overflow: hidden;text-align: left;background-color: #f0f8ff;}#sk-container-id-3 div.sk-toggleable__content pre {margin: 0.2em;color: black;border-radius: 0.25em;background-color: #f0f8ff;}#sk-container-id-3 input.sk-toggleable__control:checked~div.sk-toggleable__content {max-height: 200px;max-width: 100%;overflow: auto;}#sk-container-id-3 input.sk-toggleable__control:checked~label.sk-toggleable__label-arrow:before {content: \"▾\";}#sk-container-id-3 div.sk-estimator input.sk-toggleable__control:checked~label.sk-toggleable__label {background-color: #d4ebff;}#sk-container-id-3 div.sk-label input.sk-toggleable__control:checked~label.sk-toggleable__label {background-color: #d4ebff;}#sk-container-id-3 input.sk-hidden--visually {border: 0;clip: rect(1px 1px 1px 1px);clip: rect(1px, 1px, 1px, 1px);height: 1px;margin: -1px;overflow: hidden;padding: 0;position: absolute;width: 1px;}#sk-container-id-3 div.sk-estimator {font-family: monospace;background-color: #f0f8ff;border: 1px dotted black;border-radius: 0.25em;box-sizing: border-box;margin-bottom: 0.5em;}#sk-container-id-3 div.sk-estimator:hover {background-color: #d4ebff;}#sk-container-id-3 div.sk-parallel-item::after {content: \"\";width: 100%;border-bottom: 1px solid gray;flex-grow: 1;}#sk-container-id-3 div.sk-label:hover label.sk-toggleable__label {background-color: #d4ebff;}#sk-container-id-3 div.sk-serial::before {content: \"\";position: absolute;border-left: 1px solid gray;box-sizing: border-box;top: 0;bottom: 0;left: 50%;z-index: 0;}#sk-container-id-3 div.sk-serial {display: flex;flex-direction: column;align-items: center;background-color: white;padding-right: 0.2em;padding-left: 0.2em;position: relative;}#sk-container-id-3 div.sk-item {position: relative;z-index: 1;}#sk-container-id-3 div.sk-parallel {display: flex;align-items: stretch;justify-content: center;background-color: white;position: relative;}#sk-container-id-3 div.sk-item::before, #sk-container-id-3 div.sk-parallel-item::before {content: \"\";position: absolute;border-left: 1px solid gray;box-sizing: border-box;top: 0;bottom: 0;left: 50%;z-index: -1;}#sk-container-id-3 div.sk-parallel-item {display: flex;flex-direction: column;z-index: 1;position: relative;background-color: white;}#sk-container-id-3 div.sk-parallel-item:first-child::after {align-self: flex-end;width: 50%;}#sk-container-id-3 div.sk-parallel-item:last-child::after {align-self: flex-start;width: 50%;}#sk-container-id-3 div.sk-parallel-item:only-child::after {width: 0;}#sk-container-id-3 div.sk-dashed-wrapped {border: 1px dashed gray;margin: 0 0.4em 0.5em 0.4em;box-sizing: border-box;padding-bottom: 0.4em;background-color: white;}#sk-container-id-3 div.sk-label label {font-family: monospace;font-weight: bold;display: inline-block;line-height: 1.2em;}#sk-container-id-3 div.sk-label-container {text-align: center;}#sk-container-id-3 div.sk-container {/* jupyter's `normalize.less` sets `[hidden] { display: none; }` but bootstrap.min.css set `[hidden] { display: none !important; }` so we also need the `!important` here to be able to override the default hidden behavior on the sphinx rendered scikit-learn.org. See: https://github.com/scikit-learn/scikit-learn/issues/21755 */display: inline-block !important;position: relative;}#sk-container-id-3 div.sk-text-repr-fallback {display: none;}</style><div id=\"sk-container-id-3\" class=\"sk-top-container\"><div class=\"sk-text-repr-fallback\"><pre>GridSearchCV(cv=10,\n             estimator=Pipeline(steps=[(&#x27;preprocess&#x27;,\n                                        ColumnTransformer(remainder=&#x27;passthrough&#x27;,\n                                                          transformers=[(&#x27;scaling&#x27;,\n                                                                         StandardScaler(),\n                                                                         [&#x27;LotArea&#x27;,\n                                                                          &#x27;MasVnrArea&#x27;,\n                                                                          &#x27;TotalBsmtSF&#x27;,\n                                                                          &#x27;GrLivArea&#x27;,\n                                                                          &#x27;WoodDeckSF&#x27;,\n                                                                          &#x27;OpenPorchSF&#x27;,\n                                                                          &#x27;Age&#x27;,\n                                                                          &#x27;RemodAge&#x27;])])),\n                                       (&#x27;reg&#x27;, Ridge())]),\n             param_grid={&#x27;reg&#x27;: [Ridge(alpha=10), Lasso()],\n                         &#x27;reg__alpha&#x27;: [0.01, 0.1, 1, 10]},\n             scoring=&#x27;neg_mean_squared_error&#x27;)</pre><b>In a Jupyter environment, please rerun this cell to show the HTML representation or trust the notebook. <br />On GitHub, the HTML representation is unable to render, please try loading this page with nbviewer.org.</b></div><div class=\"sk-container\" hidden><div class=\"sk-item sk-dashed-wrapped\"><div class=\"sk-label-container\"><div class=\"sk-label sk-toggleable\"><input class=\"sk-toggleable__control sk-hidden--visually\" id=\"sk-estimator-id-16\" type=\"checkbox\" ><label for=\"sk-estimator-id-16\" class=\"sk-toggleable__label sk-toggleable__label-arrow\">GridSearchCV</label><div class=\"sk-toggleable__content\"><pre>GridSearchCV(cv=10,\n             estimator=Pipeline(steps=[(&#x27;preprocess&#x27;,\n                                        ColumnTransformer(remainder=&#x27;passthrough&#x27;,\n                                                          transformers=[(&#x27;scaling&#x27;,\n                                                                         StandardScaler(),\n                                                                         [&#x27;LotArea&#x27;,\n                                                                          &#x27;MasVnrArea&#x27;,\n                                                                          &#x27;TotalBsmtSF&#x27;,\n                                                                          &#x27;GrLivArea&#x27;,\n                                                                          &#x27;WoodDeckSF&#x27;,\n                                                                          &#x27;OpenPorchSF&#x27;,\n                                                                          &#x27;Age&#x27;,\n                                                                          &#x27;RemodAge&#x27;])])),\n                                       (&#x27;reg&#x27;, Ridge())]),\n             param_grid={&#x27;reg&#x27;: [Ridge(alpha=10), Lasso()],\n                         &#x27;reg__alpha&#x27;: [0.01, 0.1, 1, 10]},\n             scoring=&#x27;neg_mean_squared_error&#x27;)</pre></div></div></div><div class=\"sk-parallel\"><div class=\"sk-parallel-item\"><div class=\"sk-item\"><div class=\"sk-label-container\"><div class=\"sk-label sk-toggleable\"><input class=\"sk-toggleable__control sk-hidden--visually\" id=\"sk-estimator-id-17\" type=\"checkbox\" ><label for=\"sk-estimator-id-17\" class=\"sk-toggleable__label sk-toggleable__label-arrow\">estimator: Pipeline</label><div class=\"sk-toggleable__content\"><pre>Pipeline(steps=[(&#x27;preprocess&#x27;,\n                 ColumnTransformer(remainder=&#x27;passthrough&#x27;,\n                                   transformers=[(&#x27;scaling&#x27;, StandardScaler(),\n                                                  [&#x27;LotArea&#x27;, &#x27;MasVnrArea&#x27;,\n                                                   &#x27;TotalBsmtSF&#x27;, &#x27;GrLivArea&#x27;,\n                                                   &#x27;WoodDeckSF&#x27;, &#x27;OpenPorchSF&#x27;,\n                                                   &#x27;Age&#x27;, &#x27;RemodAge&#x27;])])),\n                (&#x27;reg&#x27;, Ridge())])</pre></div></div></div><div class=\"sk-serial\"><div class=\"sk-item\"><div class=\"sk-serial\"><div class=\"sk-item sk-dashed-wrapped\"><div class=\"sk-label-container\"><div class=\"sk-label sk-toggleable\"><input class=\"sk-toggleable__control sk-hidden--visually\" id=\"sk-estimator-id-18\" type=\"checkbox\" ><label for=\"sk-estimator-id-18\" class=\"sk-toggleable__label sk-toggleable__label-arrow\">preprocess: ColumnTransformer</label><div class=\"sk-toggleable__content\"><pre>ColumnTransformer(remainder=&#x27;passthrough&#x27;,\n                  transformers=[(&#x27;scaling&#x27;, StandardScaler(),\n                                 [&#x27;LotArea&#x27;, &#x27;MasVnrArea&#x27;, &#x27;TotalBsmtSF&#x27;,\n                                  &#x27;GrLivArea&#x27;, &#x27;WoodDeckSF&#x27;, &#x27;OpenPorchSF&#x27;,\n                                  &#x27;Age&#x27;, &#x27;RemodAge&#x27;])])</pre></div></div></div><div class=\"sk-parallel\"><div class=\"sk-parallel-item\"><div class=\"sk-item\"><div class=\"sk-label-container\"><div class=\"sk-label sk-toggleable\"><input class=\"sk-toggleable__control sk-hidden--visually\" id=\"sk-estimator-id-19\" type=\"checkbox\" ><label for=\"sk-estimator-id-19\" class=\"sk-toggleable__label sk-toggleable__label-arrow\">scaling</label><div class=\"sk-toggleable__content\"><pre>[&#x27;LotArea&#x27;, &#x27;MasVnrArea&#x27;, &#x27;TotalBsmtSF&#x27;, &#x27;GrLivArea&#x27;, &#x27;WoodDeckSF&#x27;, &#x27;OpenPorchSF&#x27;, &#x27;Age&#x27;, &#x27;RemodAge&#x27;]</pre></div></div></div><div class=\"sk-serial\"><div class=\"sk-item\"><div class=\"sk-estimator sk-toggleable\"><input class=\"sk-toggleable__control sk-hidden--visually\" id=\"sk-estimator-id-20\" type=\"checkbox\" ><label for=\"sk-estimator-id-20\" class=\"sk-toggleable__label sk-toggleable__label-arrow\">StandardScaler</label><div class=\"sk-toggleable__content\"><pre>StandardScaler()</pre></div></div></div></div></div></div><div class=\"sk-parallel-item\"><div class=\"sk-item\"><div class=\"sk-label-container\"><div class=\"sk-label sk-toggleable\"><input class=\"sk-toggleable__control sk-hidden--visually\" id=\"sk-estimator-id-21\" type=\"checkbox\" ><label for=\"sk-estimator-id-21\" class=\"sk-toggleable__label sk-toggleable__label-arrow\">remainder</label><div class=\"sk-toggleable__content\"><pre></pre></div></div></div><div class=\"sk-serial\"><div class=\"sk-item\"><div class=\"sk-estimator sk-toggleable\"><input class=\"sk-toggleable__control sk-hidden--visually\" id=\"sk-estimator-id-22\" type=\"checkbox\" ><label for=\"sk-estimator-id-22\" class=\"sk-toggleable__label sk-toggleable__label-arrow\">passthrough</label><div class=\"sk-toggleable__content\"><pre>passthrough</pre></div></div></div></div></div></div></div></div><div class=\"sk-item\"><div class=\"sk-estimator sk-toggleable\"><input class=\"sk-toggleable__control sk-hidden--visually\" id=\"sk-estimator-id-23\" type=\"checkbox\" ><label for=\"sk-estimator-id-23\" class=\"sk-toggleable__label sk-toggleable__label-arrow\">Ridge</label><div class=\"sk-toggleable__content\"><pre>Ridge()</pre></div></div></div></div></div></div></div></div></div></div></div></div>"
          },
          "metadata": {}
        }
      ]
    },
    {
      "cell_type": "code",
      "source": "# print the score of the best model\n\npipe_cv.best_score_",
      "metadata": {
        "trusted": true
      },
      "execution_count": 54,
      "outputs": [
        {
          "execution_count": 54,
          "output_type": "execute_result",
          "data": {
            "text/plain": "-1370740935.5199292"
          },
          "metadata": {}
        }
      ]
    },
    {
      "cell_type": "markdown",
      "source": "---\n\n**[Optional task]**\nFinally, what if we also want to compare the Linear Regression model with Ridge and Lasso? \n\nWe cannot add it to the list of models in the parameter grid above, because it does not have `alpha` parameter. \nTurns out `GridSearchCV` can deal with this situation as well. We can create **list of dictionaries** as a param grid. ",
      "metadata": {}
    },
    {
      "cell_type": "code",
      "source": "# define pipe \npipe = Pipeline([\n    ('preprocess', column_transforms),\n    ('reg', Ridge())\n])\n\n# define param grid\nparam_grid = [\n    {}, # parameter grid for lasso and ridge (model and regularization coefficient)\n    {} # parameter grid for linear regression (only model)\n]\n\n# define grid search object\npipe_cv = # your code here",
      "metadata": {},
      "execution_count": 23,
      "outputs": []
    },
    {
      "cell_type": "code",
      "source": "# fit and print best estimator",
      "metadata": {},
      "execution_count": null,
      "outputs": []
    },
    {
      "cell_type": "markdown",
      "source": "### Train best model on the whole train and evaluate on test\n\nNow we can use best estimator found by Grid Search, to train on the whole training dataset and evaluate it on the test dataset. ",
      "metadata": {}
    },
    {
      "cell_type": "code",
      "source": "# get the best model from `pipe_cv`\nbest_m = pipe_cv.best_estimator_\n\n# fit on the train dataset\n\n\n# calculate predictions on test\n",
      "metadata": {},
      "execution_count": 25,
      "outputs": []
    },
    {
      "cell_type": "code",
      "source": "# calculate root mean squared error on the test set\n",
      "metadata": {},
      "execution_count": null,
      "outputs": []
    }
  ]
}